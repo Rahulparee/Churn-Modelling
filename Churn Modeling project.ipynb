{
 "cells": [
  {
   "cell_type": "markdown",
   "id": "cf3c6546",
   "metadata": {},
   "source": [
    "# Project For CSI Data Science\n",
    "\n",
    "## Bank Customer Churn Modeling"
   ]
  },
  {
   "cell_type": "code",
   "execution_count": 1,
   "id": "406f0f33",
   "metadata": {},
   "outputs": [],
   "source": [
    "import pandas as pd\n",
    "import numpy as np\n",
    "import matplotlib.pyplot as plt\n",
    "import warnings\n",
    "from scipy.stats import norm\n",
    "from scipy import stats\n",
    "import seaborn as sns\n",
    "warnings.filterwarnings('ignore')\n",
    "%matplotlib inline\n",
    "plt.style.use('fivethirtyeight')"
   ]
  },
  {
   "cell_type": "code",
   "execution_count": 2,
   "id": "c4408828",
   "metadata": {},
   "outputs": [],
   "source": [
    "data = pd.read_csv(\"Churn_Modelling.csv\") "
   ]
  },
  {
   "cell_type": "code",
   "execution_count": 3,
   "id": "3f9b322f",
   "metadata": {},
   "outputs": [
    {
     "data": {
      "text/html": [
       "<div>\n",
       "<style scoped>\n",
       "    .dataframe tbody tr th:only-of-type {\n",
       "        vertical-align: middle;\n",
       "    }\n",
       "\n",
       "    .dataframe tbody tr th {\n",
       "        vertical-align: top;\n",
       "    }\n",
       "\n",
       "    .dataframe thead th {\n",
       "        text-align: right;\n",
       "    }\n",
       "</style>\n",
       "<table border=\"1\" class=\"dataframe\">\n",
       "  <thead>\n",
       "    <tr style=\"text-align: right;\">\n",
       "      <th></th>\n",
       "      <th>RowNumber</th>\n",
       "      <th>CustomerId</th>\n",
       "      <th>Surname</th>\n",
       "      <th>CreditScore</th>\n",
       "      <th>Geography</th>\n",
       "      <th>Gender</th>\n",
       "      <th>Age</th>\n",
       "      <th>Tenure</th>\n",
       "      <th>Balance</th>\n",
       "      <th>NumOfProducts</th>\n",
       "      <th>HasCrCard</th>\n",
       "      <th>IsActiveMember</th>\n",
       "      <th>EstimatedSalary</th>\n",
       "      <th>Exited</th>\n",
       "    </tr>\n",
       "  </thead>\n",
       "  <tbody>\n",
       "    <tr>\n",
       "      <th>0</th>\n",
       "      <td>1</td>\n",
       "      <td>15634602</td>\n",
       "      <td>Hargrave</td>\n",
       "      <td>619</td>\n",
       "      <td>France</td>\n",
       "      <td>Female</td>\n",
       "      <td>42</td>\n",
       "      <td>2</td>\n",
       "      <td>0.00</td>\n",
       "      <td>1</td>\n",
       "      <td>1</td>\n",
       "      <td>1</td>\n",
       "      <td>101348.88</td>\n",
       "      <td>1</td>\n",
       "    </tr>\n",
       "    <tr>\n",
       "      <th>1</th>\n",
       "      <td>2</td>\n",
       "      <td>15647311</td>\n",
       "      <td>Hill</td>\n",
       "      <td>608</td>\n",
       "      <td>Spain</td>\n",
       "      <td>Female</td>\n",
       "      <td>41</td>\n",
       "      <td>1</td>\n",
       "      <td>83807.86</td>\n",
       "      <td>1</td>\n",
       "      <td>0</td>\n",
       "      <td>1</td>\n",
       "      <td>112542.58</td>\n",
       "      <td>0</td>\n",
       "    </tr>\n",
       "    <tr>\n",
       "      <th>2</th>\n",
       "      <td>3</td>\n",
       "      <td>15619304</td>\n",
       "      <td>Onio</td>\n",
       "      <td>502</td>\n",
       "      <td>France</td>\n",
       "      <td>Female</td>\n",
       "      <td>42</td>\n",
       "      <td>8</td>\n",
       "      <td>159660.80</td>\n",
       "      <td>3</td>\n",
       "      <td>1</td>\n",
       "      <td>0</td>\n",
       "      <td>113931.57</td>\n",
       "      <td>1</td>\n",
       "    </tr>\n",
       "    <tr>\n",
       "      <th>3</th>\n",
       "      <td>4</td>\n",
       "      <td>15701354</td>\n",
       "      <td>Boni</td>\n",
       "      <td>699</td>\n",
       "      <td>France</td>\n",
       "      <td>Female</td>\n",
       "      <td>39</td>\n",
       "      <td>1</td>\n",
       "      <td>0.00</td>\n",
       "      <td>2</td>\n",
       "      <td>0</td>\n",
       "      <td>0</td>\n",
       "      <td>93826.63</td>\n",
       "      <td>0</td>\n",
       "    </tr>\n",
       "    <tr>\n",
       "      <th>4</th>\n",
       "      <td>5</td>\n",
       "      <td>15737888</td>\n",
       "      <td>Mitchell</td>\n",
       "      <td>850</td>\n",
       "      <td>Spain</td>\n",
       "      <td>Female</td>\n",
       "      <td>43</td>\n",
       "      <td>2</td>\n",
       "      <td>125510.82</td>\n",
       "      <td>1</td>\n",
       "      <td>1</td>\n",
       "      <td>1</td>\n",
       "      <td>79084.10</td>\n",
       "      <td>0</td>\n",
       "    </tr>\n",
       "  </tbody>\n",
       "</table>\n",
       "</div>"
      ],
      "text/plain": [
       "   RowNumber  CustomerId   Surname  CreditScore Geography  Gender  Age  \\\n",
       "0          1    15634602  Hargrave          619    France  Female   42   \n",
       "1          2    15647311      Hill          608     Spain  Female   41   \n",
       "2          3    15619304      Onio          502    France  Female   42   \n",
       "3          4    15701354      Boni          699    France  Female   39   \n",
       "4          5    15737888  Mitchell          850     Spain  Female   43   \n",
       "\n",
       "   Tenure    Balance  NumOfProducts  HasCrCard  IsActiveMember  \\\n",
       "0       2       0.00              1          1               1   \n",
       "1       1   83807.86              1          0               1   \n",
       "2       8  159660.80              3          1               0   \n",
       "3       1       0.00              2          0               0   \n",
       "4       2  125510.82              1          1               1   \n",
       "\n",
       "   EstimatedSalary  Exited  \n",
       "0        101348.88       1  \n",
       "1        112542.58       0  \n",
       "2        113931.57       1  \n",
       "3         93826.63       0  \n",
       "4         79084.10       0  "
      ]
     },
     "execution_count": 3,
     "metadata": {},
     "output_type": "execute_result"
    }
   ],
   "source": [
    "data.head()"
   ]
  },
  {
   "cell_type": "code",
   "execution_count": 4,
   "id": "720df86e",
   "metadata": {},
   "outputs": [],
   "source": [
    "data = data.drop(['RowNumber', 'CustomerId', 'Surname'], axis=1)"
   ]
  },
  {
   "cell_type": "code",
   "execution_count": 5,
   "id": "3c8493db",
   "metadata": {},
   "outputs": [
    {
     "data": {
      "text/plain": [
       "(10000, 11)"
      ]
     },
     "execution_count": 5,
     "metadata": {},
     "output_type": "execute_result"
    }
   ],
   "source": [
    "data.shape"
   ]
  },
  {
   "cell_type": "code",
   "execution_count": 6,
   "id": "cfbae6f6",
   "metadata": {},
   "outputs": [
    {
     "name": "stdout",
     "output_type": "stream",
     "text": [
      "<class 'pandas.core.frame.DataFrame'>\n",
      "RangeIndex: 10000 entries, 0 to 9999\n",
      "Data columns (total 11 columns):\n",
      " #   Column           Non-Null Count  Dtype  \n",
      "---  ------           --------------  -----  \n",
      " 0   CreditScore      10000 non-null  int64  \n",
      " 1   Geography        10000 non-null  object \n",
      " 2   Gender           10000 non-null  object \n",
      " 3   Age              10000 non-null  int64  \n",
      " 4   Tenure           10000 non-null  int64  \n",
      " 5   Balance          10000 non-null  float64\n",
      " 6   NumOfProducts    10000 non-null  int64  \n",
      " 7   HasCrCard        10000 non-null  int64  \n",
      " 8   IsActiveMember   10000 non-null  int64  \n",
      " 9   EstimatedSalary  10000 non-null  float64\n",
      " 10  Exited           10000 non-null  int64  \n",
      "dtypes: float64(2), int64(7), object(2)\n",
      "memory usage: 859.5+ KB\n"
     ]
    }
   ],
   "source": [
    "data.info()"
   ]
  },
  {
   "cell_type": "code",
   "execution_count": 7,
   "id": "274651d7",
   "metadata": {},
   "outputs": [
    {
     "data": {
      "text/html": [
       "<div>\n",
       "<style scoped>\n",
       "    .dataframe tbody tr th:only-of-type {\n",
       "        vertical-align: middle;\n",
       "    }\n",
       "\n",
       "    .dataframe tbody tr th {\n",
       "        vertical-align: top;\n",
       "    }\n",
       "\n",
       "    .dataframe thead th {\n",
       "        text-align: right;\n",
       "    }\n",
       "</style>\n",
       "<table border=\"1\" class=\"dataframe\">\n",
       "  <thead>\n",
       "    <tr style=\"text-align: right;\">\n",
       "      <th></th>\n",
       "      <th>CreditScore</th>\n",
       "      <th>Age</th>\n",
       "      <th>Tenure</th>\n",
       "      <th>Balance</th>\n",
       "      <th>NumOfProducts</th>\n",
       "      <th>HasCrCard</th>\n",
       "      <th>IsActiveMember</th>\n",
       "      <th>EstimatedSalary</th>\n",
       "      <th>Exited</th>\n",
       "    </tr>\n",
       "  </thead>\n",
       "  <tbody>\n",
       "    <tr>\n",
       "      <th>count</th>\n",
       "      <td>10000.000000</td>\n",
       "      <td>10000.000000</td>\n",
       "      <td>10000.000000</td>\n",
       "      <td>10000.000000</td>\n",
       "      <td>10000.000000</td>\n",
       "      <td>10000.00000</td>\n",
       "      <td>10000.000000</td>\n",
       "      <td>10000.000000</td>\n",
       "      <td>10000.000000</td>\n",
       "    </tr>\n",
       "    <tr>\n",
       "      <th>mean</th>\n",
       "      <td>650.528800</td>\n",
       "      <td>38.921800</td>\n",
       "      <td>5.012800</td>\n",
       "      <td>76485.889288</td>\n",
       "      <td>1.530200</td>\n",
       "      <td>0.70550</td>\n",
       "      <td>0.515100</td>\n",
       "      <td>100090.239881</td>\n",
       "      <td>0.203700</td>\n",
       "    </tr>\n",
       "    <tr>\n",
       "      <th>std</th>\n",
       "      <td>96.653299</td>\n",
       "      <td>10.487806</td>\n",
       "      <td>2.892174</td>\n",
       "      <td>62397.405202</td>\n",
       "      <td>0.581654</td>\n",
       "      <td>0.45584</td>\n",
       "      <td>0.499797</td>\n",
       "      <td>57510.492818</td>\n",
       "      <td>0.402769</td>\n",
       "    </tr>\n",
       "    <tr>\n",
       "      <th>min</th>\n",
       "      <td>350.000000</td>\n",
       "      <td>18.000000</td>\n",
       "      <td>0.000000</td>\n",
       "      <td>0.000000</td>\n",
       "      <td>1.000000</td>\n",
       "      <td>0.00000</td>\n",
       "      <td>0.000000</td>\n",
       "      <td>11.580000</td>\n",
       "      <td>0.000000</td>\n",
       "    </tr>\n",
       "    <tr>\n",
       "      <th>25%</th>\n",
       "      <td>584.000000</td>\n",
       "      <td>32.000000</td>\n",
       "      <td>3.000000</td>\n",
       "      <td>0.000000</td>\n",
       "      <td>1.000000</td>\n",
       "      <td>0.00000</td>\n",
       "      <td>0.000000</td>\n",
       "      <td>51002.110000</td>\n",
       "      <td>0.000000</td>\n",
       "    </tr>\n",
       "    <tr>\n",
       "      <th>50%</th>\n",
       "      <td>652.000000</td>\n",
       "      <td>37.000000</td>\n",
       "      <td>5.000000</td>\n",
       "      <td>97198.540000</td>\n",
       "      <td>1.000000</td>\n",
       "      <td>1.00000</td>\n",
       "      <td>1.000000</td>\n",
       "      <td>100193.915000</td>\n",
       "      <td>0.000000</td>\n",
       "    </tr>\n",
       "    <tr>\n",
       "      <th>75%</th>\n",
       "      <td>718.000000</td>\n",
       "      <td>44.000000</td>\n",
       "      <td>7.000000</td>\n",
       "      <td>127644.240000</td>\n",
       "      <td>2.000000</td>\n",
       "      <td>1.00000</td>\n",
       "      <td>1.000000</td>\n",
       "      <td>149388.247500</td>\n",
       "      <td>0.000000</td>\n",
       "    </tr>\n",
       "    <tr>\n",
       "      <th>max</th>\n",
       "      <td>850.000000</td>\n",
       "      <td>92.000000</td>\n",
       "      <td>10.000000</td>\n",
       "      <td>250898.090000</td>\n",
       "      <td>4.000000</td>\n",
       "      <td>1.00000</td>\n",
       "      <td>1.000000</td>\n",
       "      <td>199992.480000</td>\n",
       "      <td>1.000000</td>\n",
       "    </tr>\n",
       "  </tbody>\n",
       "</table>\n",
       "</div>"
      ],
      "text/plain": [
       "        CreditScore           Age        Tenure        Balance  NumOfProducts  \\\n",
       "count  10000.000000  10000.000000  10000.000000   10000.000000   10000.000000   \n",
       "mean     650.528800     38.921800      5.012800   76485.889288       1.530200   \n",
       "std       96.653299     10.487806      2.892174   62397.405202       0.581654   \n",
       "min      350.000000     18.000000      0.000000       0.000000       1.000000   \n",
       "25%      584.000000     32.000000      3.000000       0.000000       1.000000   \n",
       "50%      652.000000     37.000000      5.000000   97198.540000       1.000000   \n",
       "75%      718.000000     44.000000      7.000000  127644.240000       2.000000   \n",
       "max      850.000000     92.000000     10.000000  250898.090000       4.000000   \n",
       "\n",
       "         HasCrCard  IsActiveMember  EstimatedSalary        Exited  \n",
       "count  10000.00000    10000.000000     10000.000000  10000.000000  \n",
       "mean       0.70550        0.515100    100090.239881      0.203700  \n",
       "std        0.45584        0.499797     57510.492818      0.402769  \n",
       "min        0.00000        0.000000        11.580000      0.000000  \n",
       "25%        0.00000        0.000000     51002.110000      0.000000  \n",
       "50%        1.00000        1.000000    100193.915000      0.000000  \n",
       "75%        1.00000        1.000000    149388.247500      0.000000  \n",
       "max        1.00000        1.000000    199992.480000      1.000000  "
      ]
     },
     "execution_count": 7,
     "metadata": {},
     "output_type": "execute_result"
    }
   ],
   "source": [
    "data.describe()"
   ]
  },
  {
   "cell_type": "code",
   "execution_count": 8,
   "id": "88c2fbc8",
   "metadata": {},
   "outputs": [
    {
     "data": {
      "text/plain": [
       "CreditScore        9.341860e+03\n",
       "Age                1.099941e+02\n",
       "Tenure             8.364673e+00\n",
       "Balance            3.893436e+09\n",
       "NumOfProducts      3.383218e-01\n",
       "HasCrCard          2.077905e-01\n",
       "IsActiveMember     2.497970e-01\n",
       "EstimatedSalary    3.307457e+09\n",
       "Exited             1.622225e-01\n",
       "dtype: float64"
      ]
     },
     "execution_count": 8,
     "metadata": {},
     "output_type": "execute_result"
    }
   ],
   "source": [
    "data.var()"
   ]
  },
  {
   "cell_type": "code",
   "execution_count": 98,
   "id": "6f323bf0",
   "metadata": {},
   "outputs": [
    {
     "data": {
      "text/html": [
       "<div>\n",
       "<style scoped>\n",
       "    .dataframe tbody tr th:only-of-type {\n",
       "        vertical-align: middle;\n",
       "    }\n",
       "\n",
       "    .dataframe tbody tr th {\n",
       "        vertical-align: top;\n",
       "    }\n",
       "\n",
       "    .dataframe thead th {\n",
       "        text-align: right;\n",
       "    }\n",
       "</style>\n",
       "<table border=\"1\" class=\"dataframe\">\n",
       "  <thead>\n",
       "    <tr style=\"text-align: right;\">\n",
       "      <th></th>\n",
       "      <th>Age</th>\n",
       "    </tr>\n",
       "    <tr>\n",
       "      <th>Gender</th>\n",
       "      <th></th>\n",
       "    </tr>\n",
       "  </thead>\n",
       "  <tbody>\n",
       "    <tr>\n",
       "      <th>Female</th>\n",
       "      <td>39.238389</td>\n",
       "    </tr>\n",
       "    <tr>\n",
       "      <th>Male</th>\n",
       "      <td>38.658237</td>\n",
       "    </tr>\n",
       "  </tbody>\n",
       "</table>\n",
       "</div>"
      ],
      "text/plain": [
       "              Age\n",
       "Gender           \n",
       "Female  39.238389\n",
       "Male    38.658237"
      ]
     },
     "execution_count": 98,
     "metadata": {},
     "output_type": "execute_result"
    }
   ],
   "source": [
    "data.groupby(\"Gender\").agg({\"Age\": \"mean\"})"
   ]
  },
  {
   "cell_type": "code",
   "execution_count": 99,
   "id": "3e70df7a",
   "metadata": {},
   "outputs": [
    {
     "data": {
      "text/html": [
       "<div>\n",
       "<style scoped>\n",
       "    .dataframe tbody tr th:only-of-type {\n",
       "        vertical-align: middle;\n",
       "    }\n",
       "\n",
       "    .dataframe tbody tr th {\n",
       "        vertical-align: top;\n",
       "    }\n",
       "\n",
       "    .dataframe thead th {\n",
       "        text-align: right;\n",
       "    }\n",
       "</style>\n",
       "<table border=\"1\" class=\"dataframe\">\n",
       "  <thead>\n",
       "    <tr style=\"text-align: right;\">\n",
       "      <th></th>\n",
       "      <th>Exited</th>\n",
       "    </tr>\n",
       "    <tr>\n",
       "      <th>Gender</th>\n",
       "      <th></th>\n",
       "    </tr>\n",
       "  </thead>\n",
       "  <tbody>\n",
       "    <tr>\n",
       "      <th>Female</th>\n",
       "      <td>0.250715</td>\n",
       "    </tr>\n",
       "    <tr>\n",
       "      <th>Male</th>\n",
       "      <td>0.164559</td>\n",
       "    </tr>\n",
       "  </tbody>\n",
       "</table>\n",
       "</div>"
      ],
      "text/plain": [
       "          Exited\n",
       "Gender          \n",
       "Female  0.250715\n",
       "Male    0.164559"
      ]
     },
     "execution_count": 99,
     "metadata": {},
     "output_type": "execute_result"
    }
   ],
   "source": [
    "data.groupby(\"Gender\").agg({\"Exited\": \"mean\"})"
   ]
  },
  {
   "cell_type": "code",
   "execution_count": 100,
   "id": "18d86da2",
   "metadata": {},
   "outputs": [
    {
     "data": {
      "text/html": [
       "<div>\n",
       "<style scoped>\n",
       "    .dataframe tbody tr th:only-of-type {\n",
       "        vertical-align: middle;\n",
       "    }\n",
       "\n",
       "    .dataframe tbody tr th {\n",
       "        vertical-align: top;\n",
       "    }\n",
       "\n",
       "    .dataframe thead th {\n",
       "        text-align: right;\n",
       "    }\n",
       "</style>\n",
       "<table border=\"1\" class=\"dataframe\">\n",
       "  <thead>\n",
       "    <tr style=\"text-align: right;\">\n",
       "      <th></th>\n",
       "      <th>Exited</th>\n",
       "    </tr>\n",
       "    <tr>\n",
       "      <th>Geography</th>\n",
       "      <th></th>\n",
       "    </tr>\n",
       "  </thead>\n",
       "  <tbody>\n",
       "    <tr>\n",
       "      <th>France</th>\n",
       "      <td>0.161548</td>\n",
       "    </tr>\n",
       "    <tr>\n",
       "      <th>Germany</th>\n",
       "      <td>0.324432</td>\n",
       "    </tr>\n",
       "    <tr>\n",
       "      <th>Spain</th>\n",
       "      <td>0.166734</td>\n",
       "    </tr>\n",
       "  </tbody>\n",
       "</table>\n",
       "</div>"
      ],
      "text/plain": [
       "             Exited\n",
       "Geography          \n",
       "France     0.161548\n",
       "Germany    0.324432\n",
       "Spain      0.166734"
      ]
     },
     "execution_count": 100,
     "metadata": {},
     "output_type": "execute_result"
    }
   ],
   "source": [
    "data.groupby(\"Geography\").agg({\"Exited\": \"mean\"})"
   ]
  },
  {
   "cell_type": "code",
   "execution_count": 101,
   "id": "dc3b374c",
   "metadata": {},
   "outputs": [
    {
     "data": {
      "text/plain": [
       "0    7963\n",
       "1    2037\n",
       "Name: Exited, dtype: int64"
      ]
     },
     "execution_count": 101,
     "metadata": {},
     "output_type": "execute_result"
    }
   ],
   "source": [
    "data[\"Exited\"].value_counts()"
   ]
  },
  {
   "cell_type": "code",
   "execution_count": 102,
   "id": "e164492b",
   "metadata": {},
   "outputs": [],
   "source": [
    "churn = data[data[\"Exited\"] == 1]"
   ]
  },
  {
   "cell_type": "code",
   "execution_count": 103,
   "id": "4060a4e9",
   "metadata": {},
   "outputs": [
    {
     "data": {
      "text/html": [
       "<div>\n",
       "<style scoped>\n",
       "    .dataframe tbody tr th:only-of-type {\n",
       "        vertical-align: middle;\n",
       "    }\n",
       "\n",
       "    .dataframe tbody tr th {\n",
       "        vertical-align: top;\n",
       "    }\n",
       "\n",
       "    .dataframe thead th {\n",
       "        text-align: right;\n",
       "    }\n",
       "</style>\n",
       "<table border=\"1\" class=\"dataframe\">\n",
       "  <thead>\n",
       "    <tr style=\"text-align: right;\">\n",
       "      <th></th>\n",
       "      <th>CreditScore</th>\n",
       "      <th>Geography</th>\n",
       "      <th>Gender</th>\n",
       "      <th>Age</th>\n",
       "      <th>Tenure</th>\n",
       "      <th>Balance</th>\n",
       "      <th>NumOfProducts</th>\n",
       "      <th>HasCrCard</th>\n",
       "      <th>IsActiveMember</th>\n",
       "      <th>EstimatedSalary</th>\n",
       "      <th>Exited</th>\n",
       "    </tr>\n",
       "  </thead>\n",
       "  <tbody>\n",
       "    <tr>\n",
       "      <th>0</th>\n",
       "      <td>619</td>\n",
       "      <td>France</td>\n",
       "      <td>Female</td>\n",
       "      <td>42</td>\n",
       "      <td>2</td>\n",
       "      <td>0.00</td>\n",
       "      <td>1</td>\n",
       "      <td>1</td>\n",
       "      <td>1</td>\n",
       "      <td>101348.88</td>\n",
       "      <td>1</td>\n",
       "    </tr>\n",
       "    <tr>\n",
       "      <th>2</th>\n",
       "      <td>502</td>\n",
       "      <td>France</td>\n",
       "      <td>Female</td>\n",
       "      <td>42</td>\n",
       "      <td>8</td>\n",
       "      <td>159660.80</td>\n",
       "      <td>3</td>\n",
       "      <td>1</td>\n",
       "      <td>0</td>\n",
       "      <td>113931.57</td>\n",
       "      <td>1</td>\n",
       "    </tr>\n",
       "    <tr>\n",
       "      <th>5</th>\n",
       "      <td>645</td>\n",
       "      <td>Spain</td>\n",
       "      <td>Male</td>\n",
       "      <td>44</td>\n",
       "      <td>8</td>\n",
       "      <td>113755.78</td>\n",
       "      <td>2</td>\n",
       "      <td>1</td>\n",
       "      <td>0</td>\n",
       "      <td>149756.71</td>\n",
       "      <td>1</td>\n",
       "    </tr>\n",
       "    <tr>\n",
       "      <th>7</th>\n",
       "      <td>376</td>\n",
       "      <td>Germany</td>\n",
       "      <td>Female</td>\n",
       "      <td>29</td>\n",
       "      <td>4</td>\n",
       "      <td>115046.74</td>\n",
       "      <td>4</td>\n",
       "      <td>1</td>\n",
       "      <td>0</td>\n",
       "      <td>119346.88</td>\n",
       "      <td>1</td>\n",
       "    </tr>\n",
       "    <tr>\n",
       "      <th>16</th>\n",
       "      <td>653</td>\n",
       "      <td>Germany</td>\n",
       "      <td>Male</td>\n",
       "      <td>58</td>\n",
       "      <td>1</td>\n",
       "      <td>132602.88</td>\n",
       "      <td>1</td>\n",
       "      <td>1</td>\n",
       "      <td>0</td>\n",
       "      <td>5097.67</td>\n",
       "      <td>1</td>\n",
       "    </tr>\n",
       "  </tbody>\n",
       "</table>\n",
       "</div>"
      ],
      "text/plain": [
       "    CreditScore Geography  Gender  Age  Tenure    Balance  NumOfProducts  \\\n",
       "0           619    France  Female   42       2       0.00              1   \n",
       "2           502    France  Female   42       8  159660.80              3   \n",
       "5           645     Spain    Male   44       8  113755.78              2   \n",
       "7           376   Germany  Female   29       4  115046.74              4   \n",
       "16          653   Germany    Male   58       1  132602.88              1   \n",
       "\n",
       "    HasCrCard  IsActiveMember  EstimatedSalary  Exited  \n",
       "0           1               1        101348.88       1  \n",
       "2           1               0        113931.57       1  \n",
       "5           1               0        149756.71       1  \n",
       "7           1               0        119346.88       1  \n",
       "16          1               0          5097.67       1  "
      ]
     },
     "execution_count": 103,
     "metadata": {},
     "output_type": "execute_result"
    }
   ],
   "source": [
    "churn.head()"
   ]
  },
  {
   "cell_type": "code",
   "execution_count": 104,
   "id": "df7a73d4",
   "metadata": {},
   "outputs": [
    {
     "data": {
      "text/plain": [
       "(2037, 11)"
      ]
     },
     "execution_count": 104,
     "metadata": {},
     "output_type": "execute_result"
    }
   ],
   "source": [
    "churn.shape"
   ]
  },
  {
   "cell_type": "code",
   "execution_count": 105,
   "id": "6905ed3f",
   "metadata": {},
   "outputs": [
    {
     "data": {
      "text/html": [
       "<div>\n",
       "<style scoped>\n",
       "    .dataframe tbody tr th:only-of-type {\n",
       "        vertical-align: middle;\n",
       "    }\n",
       "\n",
       "    .dataframe tbody tr th {\n",
       "        vertical-align: top;\n",
       "    }\n",
       "\n",
       "    .dataframe thead th {\n",
       "        text-align: right;\n",
       "    }\n",
       "</style>\n",
       "<table border=\"1\" class=\"dataframe\">\n",
       "  <thead>\n",
       "    <tr style=\"text-align: right;\">\n",
       "      <th></th>\n",
       "      <th>Exited</th>\n",
       "    </tr>\n",
       "    <tr>\n",
       "      <th>Gender</th>\n",
       "      <th></th>\n",
       "    </tr>\n",
       "  </thead>\n",
       "  <tbody>\n",
       "    <tr>\n",
       "      <th>Female</th>\n",
       "      <td>1139</td>\n",
       "    </tr>\n",
       "    <tr>\n",
       "      <th>Male</th>\n",
       "      <td>898</td>\n",
       "    </tr>\n",
       "  </tbody>\n",
       "</table>\n",
       "</div>"
      ],
      "text/plain": [
       "        Exited\n",
       "Gender        \n",
       "Female    1139\n",
       "Male       898"
      ]
     },
     "execution_count": 105,
     "metadata": {},
     "output_type": "execute_result"
    }
   ],
   "source": [
    "churn.groupby(\"Gender\").agg({\"Exited\": \"count\"})"
   ]
  },
  {
   "cell_type": "code",
   "execution_count": 106,
   "id": "b5140a81",
   "metadata": {},
   "outputs": [
    {
     "data": {
      "text/html": [
       "<div>\n",
       "<style scoped>\n",
       "    .dataframe tbody tr th:only-of-type {\n",
       "        vertical-align: middle;\n",
       "    }\n",
       "\n",
       "    .dataframe tbody tr th {\n",
       "        vertical-align: top;\n",
       "    }\n",
       "\n",
       "    .dataframe thead th {\n",
       "        text-align: right;\n",
       "    }\n",
       "</style>\n",
       "<table border=\"1\" class=\"dataframe\">\n",
       "  <thead>\n",
       "    <tr style=\"text-align: right;\">\n",
       "      <th></th>\n",
       "      <th>Exited</th>\n",
       "    </tr>\n",
       "    <tr>\n",
       "      <th>Geography</th>\n",
       "      <th></th>\n",
       "    </tr>\n",
       "  </thead>\n",
       "  <tbody>\n",
       "    <tr>\n",
       "      <th>France</th>\n",
       "      <td>810</td>\n",
       "    </tr>\n",
       "    <tr>\n",
       "      <th>Germany</th>\n",
       "      <td>814</td>\n",
       "    </tr>\n",
       "    <tr>\n",
       "      <th>Spain</th>\n",
       "      <td>413</td>\n",
       "    </tr>\n",
       "  </tbody>\n",
       "</table>\n",
       "</div>"
      ],
      "text/plain": [
       "           Exited\n",
       "Geography        \n",
       "France        810\n",
       "Germany       814\n",
       "Spain         413"
      ]
     },
     "execution_count": 106,
     "metadata": {},
     "output_type": "execute_result"
    }
   ],
   "source": [
    "churn.groupby(\"Geography\").agg({\"Exited\": \"count\"})"
   ]
  },
  {
   "cell_type": "code",
   "execution_count": 107,
   "id": "06f417b6",
   "metadata": {},
   "outputs": [],
   "source": [
    "non_churn = data[data[\"Exited\"] == 0]"
   ]
  },
  {
   "cell_type": "code",
   "execution_count": 109,
   "id": "4622a24e",
   "metadata": {},
   "outputs": [
    {
     "data": {
      "text/html": [
       "<div>\n",
       "<style scoped>\n",
       "    .dataframe tbody tr th:only-of-type {\n",
       "        vertical-align: middle;\n",
       "    }\n",
       "\n",
       "    .dataframe tbody tr th {\n",
       "        vertical-align: top;\n",
       "    }\n",
       "\n",
       "    .dataframe thead th {\n",
       "        text-align: right;\n",
       "    }\n",
       "</style>\n",
       "<table border=\"1\" class=\"dataframe\">\n",
       "  <thead>\n",
       "    <tr style=\"text-align: right;\">\n",
       "      <th></th>\n",
       "      <th>Exited</th>\n",
       "    </tr>\n",
       "    <tr>\n",
       "      <th>Geography</th>\n",
       "      <th></th>\n",
       "    </tr>\n",
       "  </thead>\n",
       "  <tbody>\n",
       "    <tr>\n",
       "      <th>France</th>\n",
       "      <td>4204</td>\n",
       "    </tr>\n",
       "    <tr>\n",
       "      <th>Germany</th>\n",
       "      <td>1695</td>\n",
       "    </tr>\n",
       "    <tr>\n",
       "      <th>Spain</th>\n",
       "      <td>2064</td>\n",
       "    </tr>\n",
       "  </tbody>\n",
       "</table>\n",
       "</div>"
      ],
      "text/plain": [
       "           Exited\n",
       "Geography        \n",
       "France       4204\n",
       "Germany      1695\n",
       "Spain        2064"
      ]
     },
     "execution_count": 109,
     "metadata": {},
     "output_type": "execute_result"
    }
   ],
   "source": [
    "non_churn.groupby(\"Geography\").agg({\"Exited\": \"count\"})"
   ]
  },
  {
   "cell_type": "markdown",
   "id": "ca79319b",
   "metadata": {},
   "source": [
    "# Data Visualisation"
   ]
  },
  {
   "cell_type": "code",
   "execution_count": 9,
   "id": "9b6b3793",
   "metadata": {},
   "outputs": [
    {
     "data": {
      "image/png": "[encoded data removed]",
      "text/plain": [
       "<Figure size 2160x1800 with 9 Axes>"
      ]
     },
     "metadata": {},
     "output_type": "display_data"
    }
   ],
   "source": [
    "data.hist(bins=50, figsize=(30,25)) \n",
    "plt.show()"
   ]
  },
  {
   "cell_type": "code",
   "execution_count": 10,
   "id": "662cd701",
   "metadata": {},
   "outputs": [
    {
     "data": {
      "image/png": "[encoded data removed]",
      "text/plain": [
       "<Figure size 432x288 with 1 Axes>"
      ]
     },
     "metadata": {},
     "output_type": "display_data"
    }
   ],
   "source": [
    "sns.countplot(x=\"Exited\", data=data)\n",
    "plt.show()"
   ]
  },
  {
   "cell_type": "code",
   "execution_count": 11,
   "id": "13837a5e",
   "metadata": {},
   "outputs": [
    {
     "data": {
      "image/png": "[encoded data removed]",
      "text/plain": [
       "<Figure size 432x288 with 1 Axes>"
      ]
     },
     "metadata": {},
     "output_type": "display_data"
    }
   ],
   "source": [
    "sns.countplot(x=\"Gender\", data=data)\n",
    "plt.show()"
   ]
  },
  {
   "cell_type": "code",
   "execution_count": 12,
   "id": "f32ca60d",
   "metadata": {},
   "outputs": [
    {
     "data": {
      "image/png": "[encoded data removed]",
      "text/plain": [
       "<Figure size 432x288 with 1 Axes>"
      ]
     },
     "metadata": {},
     "output_type": "display_data"
    }
   ],
   "source": [
    "sns.countplot(x=\"HasCrCard\", data=data)\n",
    "plt.show()"
   ]
  },
  {
   "cell_type": "code",
   "execution_count": 13,
   "id": "2dbea0db",
   "metadata": {},
   "outputs": [
    {
     "data": {
      "image/png": "[encoded data removed]",
      "text/plain": [
       "<Figure size 432x288 with 1 Axes>"
      ]
     },
     "metadata": {},
     "output_type": "display_data"
    }
   ],
   "source": [
    "sns.countplot(x=\"IsActiveMember\", data=data)\n",
    "plt.show()"
   ]
  },
  {
   "cell_type": "code",
   "execution_count": 14,
   "id": "1709de9a",
   "metadata": {},
   "outputs": [
    {
     "data": {
      "image/png": "[encoded data removed]",
      "text/plain": [
       "<Figure size 432x288 with 1 Axes>"
      ]
     },
     "metadata": {},
     "output_type": "display_data"
    }
   ],
   "source": [
    "sns.countplot(x=\"NumOfProducts\", data=data)\n",
    "plt.show()"
   ]
  },
  {
   "cell_type": "code",
   "execution_count": 15,
   "id": "5f6f1264",
   "metadata": {},
   "outputs": [
    {
     "data": {
      "image/png": "[encoded data removed]",
      "text/plain": [
       "<Figure size 1800x1080 with 2 Axes>"
      ]
     },
     "metadata": {},
     "output_type": "display_data"
    }
   ],
   "source": [
    "corr_matrix = data.corr()\n",
    "f, ax = plt.subplots(figsize=(25, 15))\n",
    "cmap = sns.diverging_palette(230, 20, as_cmap=True)\n",
    "sns.heatmap(corr_matrix, cmap=cmap, vmax=.5, annot=True, center=0,\n",
    "            square=True, linewidths=.5, cbar_kws={\"shrink\": .5})\n",
    "plt.show()"
   ]
  },
  {
   "cell_type": "code",
   "execution_count": 16,
   "id": "c67a47d4",
   "metadata": {},
   "outputs": [
    {
     "data": {
      "text/plain": [
       "Index(['Exited', 'Age', 'Balance', 'EstimatedSalary'], dtype='object')"
      ]
     },
     "execution_count": 16,
     "metadata": {},
     "output_type": "execute_result"
    }
   ],
   "source": [
    "High_corr = corr_matrix.nlargest(4, 'Exited')['Exited'].index\n",
    "High_corr"
   ]
  },
  {
   "cell_type": "code",
   "execution_count": 17,
   "id": "5a5284f6",
   "metadata": {},
   "outputs": [
    {
     "data": {
      "text/plain": [
       "Exited             1.000000\n",
       "Age                0.285323\n",
       "Balance            0.118533\n",
       "EstimatedSalary    0.012097\n",
       "HasCrCard         -0.007138\n",
       "Tenure            -0.014001\n",
       "CreditScore       -0.027094\n",
       "NumOfProducts     -0.047820\n",
       "IsActiveMember    -0.156128\n",
       "Name: Exited, dtype: float64"
      ]
     },
     "execution_count": 17,
     "metadata": {},
     "output_type": "execute_result"
    }
   ],
   "source": [
    "corr_matrix[\"Exited\"].sort_values(ascending=False)"
   ]
  },
  {
   "cell_type": "code",
   "execution_count": 18,
   "id": "e547147c",
   "metadata": {},
   "outputs": [],
   "source": [
    "new_df = data.copy()"
   ]
  },
  {
   "cell_type": "code",
   "execution_count": 19,
   "id": "77022142",
   "metadata": {},
   "outputs": [],
   "source": [
    "def IQR(column_name):\n",
    "    Q1 = new_df[column_name].quantile(0.12)\n",
    "    Q3 = new_df[column_name].quantile(0.88)\n",
    "    IQR = Q3 - Q1\n",
    "    upper_limit = Q3 + 1.5 * IQR\n",
    "    lower_limit = Q1 - 1.5 * IQR\n",
    "    values_upper = new_df[new_df[column_name] > upper_limit]\n",
    "    values_lower = new_df[new_df[column_name] < lower_limit]\n",
    "    \n",
    "    return values_upper, values_lower, upper_limit, lower_limit"
   ]
  },
  {
   "cell_type": "code",
   "execution_count": 20,
   "id": "1712ce33",
   "metadata": {},
   "outputs": [],
   "source": [
    "def upper(column_name):\n",
    "    if values_upper.shape[0] > 0:\n",
    "        print(\"Outliers upper than the higher limit: \")\n",
    "        return new_df[new_df[column_name] > upper_limit]\n",
    "    else:\n",
    "        print(\"There are no values higher than the upper limit!\")"
   ]
  },
  {
   "cell_type": "code",
   "execution_count": 21,
   "id": "c911125f",
   "metadata": {},
   "outputs": [],
   "source": [
    "def lower(column_name):\n",
    "    if values_lower.shape[0] > 0:\n",
    "        print(\"Outliers lower than the higher limit: \")\n",
    "        return new_df[new_df[column_name] < lower_limit]\n",
    "    else:\n",
    "        print(\"There are no values lower than the lower limit!\")"
   ]
  },
  {
   "cell_type": "code",
   "execution_count": 22,
   "id": "ec973710",
   "metadata": {},
   "outputs": [],
   "source": [
    "def outliers_del(column_name):\n",
    "    \n",
    "    global new_df\n",
    "    new_df = new_df[new_df[column_name] < upper_limit]\n",
    "    new_df = new_df[new_df[column_name] > lower_limit]\n",
    "    print(\"the old data shape is :\", data.shape)\n",
    "    print(\"the new data shape is :\", new_df.shape)"
   ]
  },
  {
   "cell_type": "code",
   "execution_count": 23,
   "id": "d523b6ac",
   "metadata": {},
   "outputs": [],
   "source": [
    "\n",
    "def plot(column_name):\n",
    "    plt.style.use('fivethirtyeight')\n",
    "    plt.figure(figsize=(16,5))\n",
    "   \n",
    "    plt.subplot(1,2,1)\n",
    "    sns.boxplot(data[column_name],palette=\"rocket\")\n",
    "    plt.show()"
   ]
  },
  {
   "cell_type": "code",
   "execution_count": 24,
   "id": "3854767f",
   "metadata": {},
   "outputs": [],
   "source": [
    "def outlier_compare(column_name):\n",
    "    plt.style.use('fivethirtyeight')\n",
    "    plt.figure(figsize=(25,15))\n",
    "    plt.subplot(2,2,1)\n",
    "    sns.boxplot(data[column_name], palette=\"rocket\")\n",
    "    plt.subplot(2,2,2)\n",
    "    sns.boxplot(new_df[column_name], palette=\"rocket\")\n",
    "    plt.show()"
   ]
  },
  {
   "cell_type": "code",
   "execution_count": 25,
   "id": "8ba68e45",
   "metadata": {},
   "outputs": [],
   "source": [
    "Upper_Outliers_columns = []\n",
    "Lower_Outliers_columns = []\n",
    "numeric_dtypes = ['int16', 'int32', 'int64', 'float16', 'float32', 'float64']\n",
    "for column in new_df:\n",
    "    if new_df[column].dtype in numeric_dtypes:\n",
    "        values_upper, values_lower, upper_limit, lower_limit = IQR(column)\n",
    "        if values_upper.shape[0] > 0:\n",
    "            Upper_Outliers_columns.append(column)\n",
    "        if values_lower.shape[0] > 0:\n",
    "            Lower_Outliers_columns.append(column)"
   ]
  },
  {
   "cell_type": "code",
   "execution_count": 26,
   "id": "1e48de0e",
   "metadata": {},
   "outputs": [
    {
     "name": "stdout",
     "output_type": "stream",
     "text": [
      "Columns upper the limit is:  ['Age', 'NumOfProducts']\n",
      "Columns lower the limit is:  []\n"
     ]
    }
   ],
   "source": [
    "print('Columns upper the limit is: ', Upper_Outliers_columns)\n",
    "print('Columns lower the limit is: ', Lower_Outliers_columns)"
   ]
  },
  {
   "cell_type": "code",
   "execution_count": 27,
   "id": "3861586c",
   "metadata": {},
   "outputs": [
    {
     "data": {
      "image/png": "[encoded data removed]",
      "text/plain": [
       "<Figure size 1152x360 with 1 Axes>"
      ]
     },
     "metadata": {},
     "output_type": "display_data"
    }
   ],
   "source": [
    "plot('Age')"
   ]
  },
  {
   "cell_type": "code",
   "execution_count": 28,
   "id": "97cbab7d",
   "metadata": {},
   "outputs": [],
   "source": [
    "values_upper, values_lower, upper_limit, lower_limit = IQR('Age')"
   ]
  },
  {
   "cell_type": "code",
   "execution_count": 29,
   "id": "dfe9e791",
   "metadata": {},
   "outputs": [
    {
     "name": "stdout",
     "output_type": "stream",
     "text": [
      "Outliers upper than the higher limit: \n"
     ]
    },
    {
     "data": {
      "text/html": [
       "<div>\n",
       "<style scoped>\n",
       "    .dataframe tbody tr th:only-of-type {\n",
       "        vertical-align: middle;\n",
       "    }\n",
       "\n",
       "    .dataframe tbody tr th {\n",
       "        vertical-align: top;\n",
       "    }\n",
       "\n",
       "    .dataframe thead th {\n",
       "        text-align: right;\n",
       "    }\n",
       "</style>\n",
       "<table border=\"1\" class=\"dataframe\">\n",
       "  <thead>\n",
       "    <tr style=\"text-align: right;\">\n",
       "      <th></th>\n",
       "      <th>CreditScore</th>\n",
       "      <th>Geography</th>\n",
       "      <th>Gender</th>\n",
       "      <th>Age</th>\n",
       "      <th>Tenure</th>\n",
       "      <th>Balance</th>\n",
       "      <th>NumOfProducts</th>\n",
       "      <th>HasCrCard</th>\n",
       "      <th>IsActiveMember</th>\n",
       "      <th>EstimatedSalary</th>\n",
       "      <th>Exited</th>\n",
       "    </tr>\n",
       "  </thead>\n",
       "  <tbody>\n",
       "    <tr>\n",
       "      <th>2458</th>\n",
       "      <td>513</td>\n",
       "      <td>Spain</td>\n",
       "      <td>Male</td>\n",
       "      <td>88</td>\n",
       "      <td>10</td>\n",
       "      <td>0.00</td>\n",
       "      <td>2</td>\n",
       "      <td>1</td>\n",
       "      <td>1</td>\n",
       "      <td>52952.24</td>\n",
       "      <td>0</td>\n",
       "    </tr>\n",
       "    <tr>\n",
       "      <th>6443</th>\n",
       "      <td>753</td>\n",
       "      <td>France</td>\n",
       "      <td>Male</td>\n",
       "      <td>92</td>\n",
       "      <td>3</td>\n",
       "      <td>121513.31</td>\n",
       "      <td>1</td>\n",
       "      <td>0</td>\n",
       "      <td>1</td>\n",
       "      <td>195563.99</td>\n",
       "      <td>0</td>\n",
       "    </tr>\n",
       "    <tr>\n",
       "      <th>6759</th>\n",
       "      <td>705</td>\n",
       "      <td>France</td>\n",
       "      <td>Male</td>\n",
       "      <td>92</td>\n",
       "      <td>1</td>\n",
       "      <td>126076.24</td>\n",
       "      <td>2</td>\n",
       "      <td>1</td>\n",
       "      <td>1</td>\n",
       "      <td>34436.83</td>\n",
       "      <td>0</td>\n",
       "    </tr>\n",
       "  </tbody>\n",
       "</table>\n",
       "</div>"
      ],
      "text/plain": [
       "      CreditScore Geography Gender  Age  Tenure    Balance  NumOfProducts  \\\n",
       "2458          513     Spain   Male   88      10       0.00              2   \n",
       "6443          753    France   Male   92       3  121513.31              1   \n",
       "6759          705    France   Male   92       1  126076.24              2   \n",
       "\n",
       "      HasCrCard  IsActiveMember  EstimatedSalary  Exited  \n",
       "2458          1               1         52952.24       0  \n",
       "6443          0               1        195563.99       0  \n",
       "6759          1               1         34436.83       0  "
      ]
     },
     "execution_count": 29,
     "metadata": {},
     "output_type": "execute_result"
    }
   ],
   "source": [
    "upper('Age')"
   ]
  },
  {
   "cell_type": "code",
   "execution_count": 30,
   "id": "70daa05e",
   "metadata": {},
   "outputs": [
    {
     "name": "stdout",
     "output_type": "stream",
     "text": [
      "There are no values lower than the lower limit!\n"
     ]
    }
   ],
   "source": [
    "lower('Age')"
   ]
  },
  {
   "cell_type": "code",
   "execution_count": 31,
   "id": "0736d930",
   "metadata": {},
   "outputs": [
    {
     "name": "stdout",
     "output_type": "stream",
     "text": [
      "the old data shape is : (10000, 11)\n",
      "the new data shape is : (9997, 11)\n"
     ]
    }
   ],
   "source": [
    "outliers_del('Age')"
   ]
  },
  {
   "cell_type": "code",
   "execution_count": 32,
   "id": "58b1c466",
   "metadata": {},
   "outputs": [
    {
     "data": {
      "image/png": "[encoded data removed]",
      "text/plain": [
       "<Figure size 1800x1080 with 2 Axes>"
      ]
     },
     "metadata": {},
     "output_type": "display_data"
    }
   ],
   "source": [
    "outlier_compare('Age')"
   ]
  },
  {
   "cell_type": "code",
   "execution_count": 33,
   "id": "aed296d1",
   "metadata": {},
   "outputs": [
    {
     "data": {
      "image/png": "[encoded data removed]",
      "text/plain": [
       "<Figure size 1080x648 with 1 Axes>"
      ]
     },
     "metadata": {},
     "output_type": "display_data"
    }
   ],
   "source": [
    "from scipy.stats import skew\n",
    "\n",
    "skewness_list = {}\n",
    "for i in new_df:\n",
    "    if new_df[i].dtype != \"object\":\n",
    "        skewness_list[i] = skew(new_df[i])\n",
    "\n",
    "skewness = pd.DataFrame({'Skew' :skewness_list})\n",
    "plt.style.use('fivethirtyeight')\n",
    "plt.figure(figsize=(15,9))\n",
    "plt.xlabel('Features', fontsize=15)\n",
    "plt.ylabel('Skewness', fontsize=15)\n",
    "plt.xticks(rotation='90')\n",
    "plt.bar(range(len(skewness_list)), list(skewness_list.values()), align='center')\n",
    "plt.xticks(range(len(skewness_list)), list(skewness_list.keys()))\n",
    "\n",
    "plt.show()"
   ]
  },
  {
   "cell_type": "code",
   "execution_count": 34,
   "id": "4ad86140",
   "metadata": {},
   "outputs": [
    {
     "data": {
      "text/plain": [
       "{'CreditScore': -0.07141098316751554,\n",
       " 'Age': 0.9900975040091681,\n",
       " 'Tenure': 0.010677171556366927,\n",
       " 'Balance': -0.14093893357951057,\n",
       " 'NumOfProducts': 0.7457646513129027,\n",
       " 'HasCrCard': -0.9017378440892351,\n",
       " 'IsActiveMember': -0.059844718318435124,\n",
       " 'EstimatedSalary': 0.0017419755543737416,\n",
       " 'Exited': 1.4709221378016983}"
      ]
     },
     "execution_count": 34,
     "metadata": {},
     "output_type": "execute_result"
    }
   ],
   "source": [
    "skewness_list"
   ]
  },
  {
   "cell_type": "code",
   "execution_count": 35,
   "id": "ca9ea41e",
   "metadata": {},
   "outputs": [],
   "source": [
    "X = new_df.drop(\"Exited\", axis=1)"
   ]
  },
  {
   "cell_type": "code",
   "execution_count": 36,
   "id": "c86a58c3",
   "metadata": {},
   "outputs": [],
   "source": [
    "y = new_df['Exited'].copy()"
   ]
  },
  {
   "cell_type": "code",
   "execution_count": 37,
   "id": "a467cb67",
   "metadata": {},
   "outputs": [
    {
     "data": {
      "text/plain": [
       "((9997, 10), (9997,))"
      ]
     },
     "execution_count": 37,
     "metadata": {},
     "output_type": "execute_result"
    }
   ],
   "source": [
    "X.shape, y.shape"
   ]
  },
  {
   "cell_type": "code",
   "execution_count": 38,
   "id": "610056f1",
   "metadata": {},
   "outputs": [],
   "source": [
    "from sklearn.model_selection import train_test_split\n",
    "X_train, X_test, y_train, y_test = train_test_split(X, y, test_size=.30, shuffle=True, random_state=42, stratify=y)"
   ]
  },
  {
   "cell_type": "code",
   "execution_count": 39,
   "id": "54b659d1",
   "metadata": {},
   "outputs": [],
   "source": [
    "\n",
    "from sklearn.linear_model import LogisticRegression\n",
    "from sklearn.ensemble import RandomForestClassifier\n",
    "from sklearn.neighbors import KNeighborsClassifier\n",
    "\n",
    "from sklearn.preprocessing import OneHotEncoder\n",
    "\n",
    "from sklearn.preprocessing import MinMaxScaler\n",
    " \n",
    "from sklearn.feature_selection import SelectPercentile, chi2\n",
    "\n",
    "from sklearn.compose import make_column_transformer\n",
    "\n",
    "from sklearn.pipeline import make_pipeline\n",
    "\n",
    "from sklearn.model_selection import cross_val_score\n",
    "from sklearn.model_selection import KFold, StratifiedKFold\n",
    " \n",
    "from sklearn import set_config\n",
    "set_config(display='diagram')"
   ]
  },
  {
   "cell_type": "code",
   "execution_count": 40,
   "id": "b044885e",
   "metadata": {},
   "outputs": [],
   "source": [
    "OHE = OneHotEncoder()\n",
    "MMS = MinMaxScaler()\n",
    "cv = StratifiedKFold(5, random_state=1, shuffle=True)"
   ]
  },
  {
   "cell_type": "code",
   "execution_count": 41,
   "id": "12a6d5a9",
   "metadata": {},
   "outputs": [],
   "source": [
    "column_trans = make_column_transformer(\n",
    "    (OHE, ['Geography', 'Gender']),\n",
    "    (MMS, ['CreditScore', 'Balance', 'EstimatedSalary']),\n",
    "    remainder='passthrough')"
   ]
  },
  {
   "cell_type": "code",
   "execution_count": 42,
   "id": "a6606b85",
   "metadata": {},
   "outputs": [
    {
     "data": {
      "text/plain": [
       "array([[1., 0., 0., ..., 1., 1., 0.],\n",
       "       [1., 0., 0., ..., 2., 1., 0.],\n",
       "       [0., 0., 1., ..., 1., 1., 1.],\n",
       "       ...,\n",
       "       [0., 1., 0., ..., 2., 1., 1.],\n",
       "       [1., 0., 0., ..., 2., 1., 1.],\n",
       "       [1., 0., 0., ..., 1., 1., 1.]])"
      ]
     },
     "execution_count": 42,
     "metadata": {},
     "output_type": "execute_result"
    }
   ],
   "source": [
    "column_trans.fit_transform(X_train)"
   ]
  },
  {
   "cell_type": "code",
   "execution_count": 43,
   "id": "258751cd",
   "metadata": {},
   "outputs": [],
   "source": [
    "RF = RandomForestClassifier(random_state=4, criterion='gini', max_depth=10, max_features='auto')"
   ]
  },
  {
   "cell_type": "code",
   "execution_count": 44,
   "id": "f372389c",
   "metadata": {},
   "outputs": [],
   "source": [
    "RF_pipe = make_pipeline(column_trans, RF)"
   ]
  },
  {
   "cell_type": "code",
   "execution_count": 45,
   "id": "af1b0087",
   "metadata": {},
   "outputs": [
    {
     "data": {
      "text/html": [
       "<style>div.sk-top-container {color: black;background-color: white;}div.sk-toggleable {background-color: white;}label.sk-toggleable__label {cursor: pointer;display: block;width: 100%;margin-bottom: 0;padding: 0.2em 0.3em;box-sizing: border-box;text-align: center;}div.sk-toggleable__content {max-height: 0;max-width: 0;overflow: hidden;text-align: left;background-color: #f0f8ff;}div.sk-toggleable__content pre {margin: 0.2em;color: black;border-radius: 0.25em;background-color: #f0f8ff;}input.sk-toggleable__control:checked~div.sk-toggleable__content {max-height: 200px;max-width: 100%;overflow: auto;}div.sk-estimator input.sk-toggleable__control:checked~label.sk-toggleable__label {background-color: #d4ebff;}div.sk-label input.sk-toggleable__control:checked~label.sk-toggleable__label {background-color: #d4ebff;}input.sk-hidden--visually {border: 0;clip: rect(1px 1px 1px 1px);clip: rect(1px, 1px, 1px, 1px);height: 1px;margin: -1px;overflow: hidden;padding: 0;position: absolute;width: 1px;}div.sk-estimator {font-family: monospace;background-color: #f0f8ff;margin: 0.25em 0.25em;border: 1px dotted black;border-radius: 0.25em;box-sizing: border-box;}div.sk-estimator:hover {background-color: #d4ebff;}div.sk-parallel-item::after {content: \"\";width: 100%;border-bottom: 1px solid gray;flex-grow: 1;}div.sk-label:hover label.sk-toggleable__label {background-color: #d4ebff;}div.sk-serial::before {content: \"\";position: absolute;border-left: 1px solid gray;box-sizing: border-box;top: 2em;bottom: 0;left: 50%;}div.sk-serial {display: flex;flex-direction: column;align-items: center;background-color: white;}div.sk-item {z-index: 1;}div.sk-parallel {display: flex;align-items: stretch;justify-content: center;background-color: white;}div.sk-parallel-item {display: flex;flex-direction: column;position: relative;background-color: white;}div.sk-parallel-item:first-child::after {align-self: flex-end;width: 50%;}div.sk-parallel-item:last-child::after {align-self: flex-start;width: 50%;}div.sk-parallel-item:only-child::after {width: 0;}div.sk-dashed-wrapped {border: 1px dashed gray;margin: 0.2em;box-sizing: border-box;padding-bottom: 0.1em;background-color: white;position: relative;}div.sk-label label {font-family: monospace;font-weight: bold;background-color: white;display: inline-block;line-height: 1.2em;}div.sk-label-container {position: relative;z-index: 2;text-align: center;}div.sk-container {display: inline-block;position: relative;}</style><div class=\"sk-top-container\"><div class=\"sk-container\"><div class=\"sk-item sk-dashed-wrapped\"><div class=\"sk-label-container\"><div class=\"sk-label sk-toggleable\"><input class=\"sk-toggleable__control sk-hidden--visually\" id=\"b89d9f67-af9b-41d5-b3a6-99329b4c76b0\" type=\"checkbox\" ><label class=\"sk-toggleable__label\" for=\"b89d9f67-af9b-41d5-b3a6-99329b4c76b0\">Pipeline</label><div class=\"sk-toggleable__content\"><pre>Pipeline(steps=[('columntransformer',\n",
       "                 ColumnTransformer(remainder='passthrough',\n",
       "                                   transformers=[('onehotencoder',\n",
       "                                                  OneHotEncoder(),\n",
       "                                                  ['Geography', 'Gender']),\n",
       "                                                 ('minmaxscaler',\n",
       "                                                  MinMaxScaler(),\n",
       "                                                  ['CreditScore', 'Balance',\n",
       "                                                   'EstimatedSalary'])])),\n",
       "                ('randomforestclassifier',\n",
       "                 RandomForestClassifier(max_depth=10, random_state=4))])</pre></div></div></div><div class=\"sk-serial\"><div class=\"sk-item sk-dashed-wrapped\"><div class=\"sk-label-container\"><div class=\"sk-label sk-toggleable\"><input class=\"sk-toggleable__control sk-hidden--visually\" id=\"9f62ec5c-3b39-4861-b77b-abfa02dc26c0\" type=\"checkbox\" ><label class=\"sk-toggleable__label\" for=\"9f62ec5c-3b39-4861-b77b-abfa02dc26c0\">columntransformer: ColumnTransformer</label><div class=\"sk-toggleable__content\"><pre>ColumnTransformer(remainder='passthrough',\n",
       "                  transformers=[('onehotencoder', OneHotEncoder(),\n",
       "                                 ['Geography', 'Gender']),\n",
       "                                ('minmaxscaler', MinMaxScaler(),\n",
       "                                 ['CreditScore', 'Balance',\n",
       "                                  'EstimatedSalary'])])</pre></div></div></div><div class=\"sk-parallel\"><div class=\"sk-parallel-item\"><div class=\"sk-item\"><div class=\"sk-label-container\"><div class=\"sk-label sk-toggleable\"><input class=\"sk-toggleable__control sk-hidden--visually\" id=\"022fe471-97a0-4674-b6b6-ed4f18069737\" type=\"checkbox\" ><label class=\"sk-toggleable__label\" for=\"022fe471-97a0-4674-b6b6-ed4f18069737\">onehotencoder</label><div class=\"sk-toggleable__content\"><pre>['Geography', 'Gender']</pre></div></div></div><div class=\"sk-serial\"><div class=\"sk-item\"><div class=\"sk-estimator sk-toggleable\"><input class=\"sk-toggleable__control sk-hidden--visually\" id=\"c68a0f60-66be-4ef7-9c55-00376f9292cd\" type=\"checkbox\" ><label class=\"sk-toggleable__label\" for=\"c68a0f60-66be-4ef7-9c55-00376f9292cd\">OneHotEncoder</label><div class=\"sk-toggleable__content\"><pre>OneHotEncoder()</pre></div></div></div></div></div></div><div class=\"sk-parallel-item\"><div class=\"sk-item\"><div class=\"sk-label-container\"><div class=\"sk-label sk-toggleable\"><input class=\"sk-toggleable__control sk-hidden--visually\" id=\"b0d4ed71-e49a-44f2-aa37-6accf0852d26\" type=\"checkbox\" ><label class=\"sk-toggleable__label\" for=\"b0d4ed71-e49a-44f2-aa37-6accf0852d26\">minmaxscaler</label><div class=\"sk-toggleable__content\"><pre>['CreditScore', 'Balance', 'EstimatedSalary']</pre></div></div></div><div class=\"sk-serial\"><div class=\"sk-item\"><div class=\"sk-estimator sk-toggleable\"><input class=\"sk-toggleable__control sk-hidden--visually\" id=\"38a1f689-5e1b-4482-a6ed-7c71656de5d6\" type=\"checkbox\" ><label class=\"sk-toggleable__label\" for=\"38a1f689-5e1b-4482-a6ed-7c71656de5d6\">MinMaxScaler</label><div class=\"sk-toggleable__content\"><pre>MinMaxScaler()</pre></div></div></div></div></div></div><div class=\"sk-parallel-item\"><div class=\"sk-item\"><div class=\"sk-label-container\"><div class=\"sk-label sk-toggleable\"><input class=\"sk-toggleable__control sk-hidden--visually\" id=\"fec92684-d8bb-4096-91f0-e640eb111c84\" type=\"checkbox\" ><label class=\"sk-toggleable__label\" for=\"fec92684-d8bb-4096-91f0-e640eb111c84\">remainder</label><div class=\"sk-toggleable__content\"><pre>['Age', 'Tenure', 'NumOfProducts', 'HasCrCard', 'IsActiveMember']</pre></div></div></div><div class=\"sk-serial\"><div class=\"sk-item\"><div class=\"sk-estimator sk-toggleable\"><input class=\"sk-toggleable__control sk-hidden--visually\" id=\"4ef0d04f-6b95-4dca-bf08-7f42bd0e16b4\" type=\"checkbox\" ><label class=\"sk-toggleable__label\" for=\"4ef0d04f-6b95-4dca-bf08-7f42bd0e16b4\">passthrough</label><div class=\"sk-toggleable__content\"><pre>passthrough</pre></div></div></div></div></div></div></div></div><div class=\"sk-item\"><div class=\"sk-estimator sk-toggleable\"><input class=\"sk-toggleable__control sk-hidden--visually\" id=\"1f3b42bd-ccf1-46e7-8992-3cf83fe16a26\" type=\"checkbox\" ><label class=\"sk-toggleable__label\" for=\"1f3b42bd-ccf1-46e7-8992-3cf83fe16a26\">RandomForestClassifier</label><div class=\"sk-toggleable__content\"><pre>RandomForestClassifier(max_depth=10, random_state=4)</pre></div></div></div></div></div></div></div>"
      ],
      "text/plain": [
       "Pipeline(steps=[('columntransformer',\n",
       "                 ColumnTransformer(remainder='passthrough',\n",
       "                                   transformers=[('onehotencoder',\n",
       "                                                  OneHotEncoder(),\n",
       "                                                  ['Geography', 'Gender']),\n",
       "                                                 ('minmaxscaler',\n",
       "                                                  MinMaxScaler(),\n",
       "                                                  ['CreditScore', 'Balance',\n",
       "                                                   'EstimatedSalary'])])),\n",
       "                ('randomforestclassifier',\n",
       "                 RandomForestClassifier(max_depth=10, random_state=4))])"
      ]
     },
     "execution_count": 45,
     "metadata": {},
     "output_type": "execute_result"
    }
   ],
   "source": [
    "RF_pipe"
   ]
  },
  {
   "cell_type": "code",
   "execution_count": 46,
   "id": "eacb1a04",
   "metadata": {},
   "outputs": [
    {
     "data": {
      "text/plain": [
       "0.8603709792709079"
      ]
     },
     "execution_count": 46,
     "metadata": {},
     "output_type": "execute_result"
    }
   ],
   "source": [
    "cross_val_score(RF_pipe, X_train, y_train, cv=cv, scoring='accuracy').mean()"
   ]
  },
  {
   "cell_type": "code",
   "execution_count": 47,
   "id": "163506a3",
   "metadata": {},
   "outputs": [],
   "source": [
    "RF_pipe.fit(X_train, y_train);"
   ]
  },
  {
   "cell_type": "code",
   "execution_count": 48,
   "id": "de52bdc2",
   "metadata": {},
   "outputs": [
    {
     "data": {
      "text/plain": [
       "0.9012433900242961"
      ]
     },
     "execution_count": 48,
     "metadata": {},
     "output_type": "execute_result"
    }
   ],
   "source": [
    "RF_pipe.score(X_train, y_train)"
   ]
  },
  {
   "cell_type": "code",
   "execution_count": 49,
   "id": "55538eb6",
   "metadata": {},
   "outputs": [],
   "source": [
    "RF_pred = RF_pipe.predict(X_train)"
   ]
  },
  {
   "cell_type": "code",
   "execution_count": 50,
   "id": "c058b42d",
   "metadata": {},
   "outputs": [
    {
     "data": {
      "text/plain": [
       "array([[5533,   38],\n",
       "       [ 653,  773]], dtype=int64)"
      ]
     },
     "execution_count": 50,
     "metadata": {},
     "output_type": "execute_result"
    }
   ],
   "source": [
    "from sklearn.metrics import confusion_matrix\n",
    "confusion_matrix(y_train, RF_pred)"
   ]
  },
  {
   "cell_type": "code",
   "execution_count": 51,
   "id": "b713f5dd",
   "metadata": {},
   "outputs": [],
   "source": [
    "LR = LogisticRegression(random_state=4, C=1, max_iter=1000, multi_class='auto', penalty='l1',solver='saga')"
   ]
  },
  {
   "cell_type": "code",
   "execution_count": 52,
   "id": "1db52075",
   "metadata": {},
   "outputs": [],
   "source": [
    "LR_pipe = make_pipeline(column_trans, LR)"
   ]
  },
  {
   "cell_type": "code",
   "execution_count": 53,
   "id": "50c89395",
   "metadata": {},
   "outputs": [
    {
     "data": {
      "text/html": [
       "<style>div.sk-top-container {color: black;background-color: white;}div.sk-toggleable {background-color: white;}label.sk-toggleable__label {cursor: pointer;display: block;width: 100%;margin-bottom: 0;padding: 0.2em 0.3em;box-sizing: border-box;text-align: center;}div.sk-toggleable__content {max-height: 0;max-width: 0;overflow: hidden;text-align: left;background-color: #f0f8ff;}div.sk-toggleable__content pre {margin: 0.2em;color: black;border-radius: 0.25em;background-color: #f0f8ff;}input.sk-toggleable__control:checked~div.sk-toggleable__content {max-height: 200px;max-width: 100%;overflow: auto;}div.sk-estimator input.sk-toggleable__control:checked~label.sk-toggleable__label {background-color: #d4ebff;}div.sk-label input.sk-toggleable__control:checked~label.sk-toggleable__label {background-color: #d4ebff;}input.sk-hidden--visually {border: 0;clip: rect(1px 1px 1px 1px);clip: rect(1px, 1px, 1px, 1px);height: 1px;margin: -1px;overflow: hidden;padding: 0;position: absolute;width: 1px;}div.sk-estimator {font-family: monospace;background-color: #f0f8ff;margin: 0.25em 0.25em;border: 1px dotted black;border-radius: 0.25em;box-sizing: border-box;}div.sk-estimator:hover {background-color: #d4ebff;}div.sk-parallel-item::after {content: \"\";width: 100%;border-bottom: 1px solid gray;flex-grow: 1;}div.sk-label:hover label.sk-toggleable__label {background-color: #d4ebff;}div.sk-serial::before {content: \"\";position: absolute;border-left: 1px solid gray;box-sizing: border-box;top: 2em;bottom: 0;left: 50%;}div.sk-serial {display: flex;flex-direction: column;align-items: center;background-color: white;}div.sk-item {z-index: 1;}div.sk-parallel {display: flex;align-items: stretch;justify-content: center;background-color: white;}div.sk-parallel-item {display: flex;flex-direction: column;position: relative;background-color: white;}div.sk-parallel-item:first-child::after {align-self: flex-end;width: 50%;}div.sk-parallel-item:last-child::after {align-self: flex-start;width: 50%;}div.sk-parallel-item:only-child::after {width: 0;}div.sk-dashed-wrapped {border: 1px dashed gray;margin: 0.2em;box-sizing: border-box;padding-bottom: 0.1em;background-color: white;position: relative;}div.sk-label label {font-family: monospace;font-weight: bold;background-color: white;display: inline-block;line-height: 1.2em;}div.sk-label-container {position: relative;z-index: 2;text-align: center;}div.sk-container {display: inline-block;position: relative;}</style><div class=\"sk-top-container\"><div class=\"sk-container\"><div class=\"sk-item sk-dashed-wrapped\"><div class=\"sk-label-container\"><div class=\"sk-label sk-toggleable\"><input class=\"sk-toggleable__control sk-hidden--visually\" id=\"c2db78a8-76e7-4121-afd7-cc3aa235f946\" type=\"checkbox\" ><label class=\"sk-toggleable__label\" for=\"c2db78a8-76e7-4121-afd7-cc3aa235f946\">Pipeline</label><div class=\"sk-toggleable__content\"><pre>Pipeline(steps=[('columntransformer',\n",
       "                 ColumnTransformer(remainder='passthrough',\n",
       "                                   transformers=[('onehotencoder',\n",
       "                                                  OneHotEncoder(),\n",
       "                                                  ['Geography', 'Gender']),\n",
       "                                                 ('minmaxscaler',\n",
       "                                                  MinMaxScaler(),\n",
       "                                                  ['CreditScore', 'Balance',\n",
       "                                                   'EstimatedSalary'])])),\n",
       "                ('logisticregression',\n",
       "                 LogisticRegression(C=1, max_iter=1000, penalty='l1',\n",
       "                                    random_state=4, solver='saga'))])</pre></div></div></div><div class=\"sk-serial\"><div class=\"sk-item sk-dashed-wrapped\"><div class=\"sk-label-container\"><div class=\"sk-label sk-toggleable\"><input class=\"sk-toggleable__control sk-hidden--visually\" id=\"d44f8de9-97aa-4100-bf2d-145637bde3ab\" type=\"checkbox\" ><label class=\"sk-toggleable__label\" for=\"d44f8de9-97aa-4100-bf2d-145637bde3ab\">columntransformer: ColumnTransformer</label><div class=\"sk-toggleable__content\"><pre>ColumnTransformer(remainder='passthrough',\n",
       "                  transformers=[('onehotencoder', OneHotEncoder(),\n",
       "                                 ['Geography', 'Gender']),\n",
       "                                ('minmaxscaler', MinMaxScaler(),\n",
       "                                 ['CreditScore', 'Balance',\n",
       "                                  'EstimatedSalary'])])</pre></div></div></div><div class=\"sk-parallel\"><div class=\"sk-parallel-item\"><div class=\"sk-item\"><div class=\"sk-label-container\"><div class=\"sk-label sk-toggleable\"><input class=\"sk-toggleable__control sk-hidden--visually\" id=\"6dc0a6d3-67f5-465a-a6a5-67e09b460e1f\" type=\"checkbox\" ><label class=\"sk-toggleable__label\" for=\"6dc0a6d3-67f5-465a-a6a5-67e09b460e1f\">onehotencoder</label><div class=\"sk-toggleable__content\"><pre>['Geography', 'Gender']</pre></div></div></div><div class=\"sk-serial\"><div class=\"sk-item\"><div class=\"sk-estimator sk-toggleable\"><input class=\"sk-toggleable__control sk-hidden--visually\" id=\"49d99114-dbe3-4c3f-a255-374fc4cc1032\" type=\"checkbox\" ><label class=\"sk-toggleable__label\" for=\"49d99114-dbe3-4c3f-a255-374fc4cc1032\">OneHotEncoder</label><div class=\"sk-toggleable__content\"><pre>OneHotEncoder()</pre></div></div></div></div></div></div><div class=\"sk-parallel-item\"><div class=\"sk-item\"><div class=\"sk-label-container\"><div class=\"sk-label sk-toggleable\"><input class=\"sk-toggleable__control sk-hidden--visually\" id=\"f94bf53e-4d2c-4574-be6e-615697d910f5\" type=\"checkbox\" ><label class=\"sk-toggleable__label\" for=\"f94bf53e-4d2c-4574-be6e-615697d910f5\">minmaxscaler</label><div class=\"sk-toggleable__content\"><pre>['CreditScore', 'Balance', 'EstimatedSalary']</pre></div></div></div><div class=\"sk-serial\"><div class=\"sk-item\"><div class=\"sk-estimator sk-toggleable\"><input class=\"sk-toggleable__control sk-hidden--visually\" id=\"cdb29545-7d67-495b-affd-8055234b9143\" type=\"checkbox\" ><label class=\"sk-toggleable__label\" for=\"cdb29545-7d67-495b-affd-8055234b9143\">MinMaxScaler</label><div class=\"sk-toggleable__content\"><pre>MinMaxScaler()</pre></div></div></div></div></div></div><div class=\"sk-parallel-item\"><div class=\"sk-item\"><div class=\"sk-label-container\"><div class=\"sk-label sk-toggleable\"><input class=\"sk-toggleable__control sk-hidden--visually\" id=\"bc404c17-aecc-4aab-92f8-264d1ffe0430\" type=\"checkbox\" ><label class=\"sk-toggleable__label\" for=\"bc404c17-aecc-4aab-92f8-264d1ffe0430\">remainder</label><div class=\"sk-toggleable__content\"><pre>['Age', 'Tenure', 'NumOfProducts', 'HasCrCard', 'IsActiveMember']</pre></div></div></div><div class=\"sk-serial\"><div class=\"sk-item\"><div class=\"sk-estimator sk-toggleable\"><input class=\"sk-toggleable__control sk-hidden--visually\" id=\"18e64c19-d18f-42a4-8c7e-4d428441089f\" type=\"checkbox\" ><label class=\"sk-toggleable__label\" for=\"18e64c19-d18f-42a4-8c7e-4d428441089f\">passthrough</label><div class=\"sk-toggleable__content\"><pre>passthrough</pre></div></div></div></div></div></div></div></div><div class=\"sk-item\"><div class=\"sk-estimator sk-toggleable\"><input class=\"sk-toggleable__control sk-hidden--visually\" id=\"3c13013c-6a29-4ea8-9b8b-d1219d11a137\" type=\"checkbox\" ><label class=\"sk-toggleable__label\" for=\"3c13013c-6a29-4ea8-9b8b-d1219d11a137\">LogisticRegression</label><div class=\"sk-toggleable__content\"><pre>LogisticRegression(C=1, max_iter=1000, penalty='l1', random_state=4,\n",
       "                   solver='saga')</pre></div></div></div></div></div></div></div>"
      ],
      "text/plain": [
       "Pipeline(steps=[('columntransformer',\n",
       "                 ColumnTransformer(remainder='passthrough',\n",
       "                                   transformers=[('onehotencoder',\n",
       "                                                  OneHotEncoder(),\n",
       "                                                  ['Geography', 'Gender']),\n",
       "                                                 ('minmaxscaler',\n",
       "                                                  MinMaxScaler(),\n",
       "                                                  ['CreditScore', 'Balance',\n",
       "                                                   'EstimatedSalary'])])),\n",
       "                ('logisticregression',\n",
       "                 LogisticRegression(C=1, max_iter=1000, penalty='l1',\n",
       "                                    random_state=4, solver='saga'))])"
      ]
     },
     "execution_count": 53,
     "metadata": {},
     "output_type": "execute_result"
    }
   ],
   "source": [
    "LR_pipe"
   ]
  },
  {
   "cell_type": "code",
   "execution_count": 54,
   "id": "581deb9e",
   "metadata": {},
   "outputs": [
    {
     "data": {
      "text/plain": [
       "0.8113497396099254"
      ]
     },
     "execution_count": 54,
     "metadata": {},
     "output_type": "execute_result"
    }
   ],
   "source": [
    "cross_val_score(LR_pipe, X_train, y_train, cv=cv, scoring='accuracy').mean()"
   ]
  },
  {
   "cell_type": "code",
   "execution_count": 55,
   "id": "5ad5ad9d",
   "metadata": {},
   "outputs": [],
   "source": [
    "LR_pipe.fit(X_train, y_train);"
   ]
  },
  {
   "cell_type": "code",
   "execution_count": 56,
   "id": "ff620c7f",
   "metadata": {},
   "outputs": [
    {
     "data": {
      "text/plain": [
       "0.8109189652708304"
      ]
     },
     "execution_count": 56,
     "metadata": {},
     "output_type": "execute_result"
    }
   ],
   "source": [
    "LR_pipe.score(X_train, y_train)"
   ]
  },
  {
   "cell_type": "code",
   "execution_count": 57,
   "id": "cc2bd02e",
   "metadata": {},
   "outputs": [],
   "source": [
    "LR_pred = LR_pipe.predict(X_train)"
   ]
  },
  {
   "cell_type": "code",
   "execution_count": 58,
   "id": "818d5c64",
   "metadata": {},
   "outputs": [
    {
     "data": {
      "text/plain": [
       "array([[5389,  182],\n",
       "       [1141,  285]], dtype=int64)"
      ]
     },
     "execution_count": 58,
     "metadata": {},
     "output_type": "execute_result"
    }
   ],
   "source": [
    "from sklearn.metrics import confusion_matrix\n",
    "confusion_matrix(y_train, LR_pred)"
   ]
  },
  {
   "cell_type": "code",
   "execution_count": 59,
   "id": "79e6715d",
   "metadata": {},
   "outputs": [],
   "source": [
    "KNN = KNeighborsClassifier(algorithm='auto', leaf_size=30, n_neighbors=9, weights='uniform')"
   ]
  },
  {
   "cell_type": "code",
   "execution_count": 60,
   "id": "b42c8e03",
   "metadata": {},
   "outputs": [],
   "source": [
    "KNN_pipe = make_pipeline(column_trans, KNN)"
   ]
  },
  {
   "cell_type": "code",
   "execution_count": 61,
   "id": "53b471e8",
   "metadata": {},
   "outputs": [
    {
     "data": {
      "text/html": [
       "<style>div.sk-top-container {color: black;background-color: white;}div.sk-toggleable {background-color: white;}label.sk-toggleable__label {cursor: pointer;display: block;width: 100%;margin-bottom: 0;padding: 0.2em 0.3em;box-sizing: border-box;text-align: center;}div.sk-toggleable__content {max-height: 0;max-width: 0;overflow: hidden;text-align: left;background-color: #f0f8ff;}div.sk-toggleable__content pre {margin: 0.2em;color: black;border-radius: 0.25em;background-color: #f0f8ff;}input.sk-toggleable__control:checked~div.sk-toggleable__content {max-height: 200px;max-width: 100%;overflow: auto;}div.sk-estimator input.sk-toggleable__control:checked~label.sk-toggleable__label {background-color: #d4ebff;}div.sk-label input.sk-toggleable__control:checked~label.sk-toggleable__label {background-color: #d4ebff;}input.sk-hidden--visually {border: 0;clip: rect(1px 1px 1px 1px);clip: rect(1px, 1px, 1px, 1px);height: 1px;margin: -1px;overflow: hidden;padding: 0;position: absolute;width: 1px;}div.sk-estimator {font-family: monospace;background-color: #f0f8ff;margin: 0.25em 0.25em;border: 1px dotted black;border-radius: 0.25em;box-sizing: border-box;}div.sk-estimator:hover {background-color: #d4ebff;}div.sk-parallel-item::after {content: \"\";width: 100%;border-bottom: 1px solid gray;flex-grow: 1;}div.sk-label:hover label.sk-toggleable__label {background-color: #d4ebff;}div.sk-serial::before {content: \"\";position: absolute;border-left: 1px solid gray;box-sizing: border-box;top: 2em;bottom: 0;left: 50%;}div.sk-serial {display: flex;flex-direction: column;align-items: center;background-color: white;}div.sk-item {z-index: 1;}div.sk-parallel {display: flex;align-items: stretch;justify-content: center;background-color: white;}div.sk-parallel-item {display: flex;flex-direction: column;position: relative;background-color: white;}div.sk-parallel-item:first-child::after {align-self: flex-end;width: 50%;}div.sk-parallel-item:last-child::after {align-self: flex-start;width: 50%;}div.sk-parallel-item:only-child::after {width: 0;}div.sk-dashed-wrapped {border: 1px dashed gray;margin: 0.2em;box-sizing: border-box;padding-bottom: 0.1em;background-color: white;position: relative;}div.sk-label label {font-family: monospace;font-weight: bold;background-color: white;display: inline-block;line-height: 1.2em;}div.sk-label-container {position: relative;z-index: 2;text-align: center;}div.sk-container {display: inline-block;position: relative;}</style><div class=\"sk-top-container\"><div class=\"sk-container\"><div class=\"sk-item sk-dashed-wrapped\"><div class=\"sk-label-container\"><div class=\"sk-label sk-toggleable\"><input class=\"sk-toggleable__control sk-hidden--visually\" id=\"b233f279-55c3-435e-8c45-fcf8286303bd\" type=\"checkbox\" ><label class=\"sk-toggleable__label\" for=\"b233f279-55c3-435e-8c45-fcf8286303bd\">Pipeline</label><div class=\"sk-toggleable__content\"><pre>Pipeline(steps=[('columntransformer',\n",
       "                 ColumnTransformer(remainder='passthrough',\n",
       "                                   transformers=[('onehotencoder',\n",
       "                                                  OneHotEncoder(),\n",
       "                                                  ['Geography', 'Gender']),\n",
       "                                                 ('minmaxscaler',\n",
       "                                                  MinMaxScaler(),\n",
       "                                                  ['CreditScore', 'Balance',\n",
       "                                                   'EstimatedSalary'])])),\n",
       "                ('kneighborsclassifier', KNeighborsClassifier(n_neighbors=9))])</pre></div></div></div><div class=\"sk-serial\"><div class=\"sk-item sk-dashed-wrapped\"><div class=\"sk-label-container\"><div class=\"sk-label sk-toggleable\"><input class=\"sk-toggleable__control sk-hidden--visually\" id=\"46ce1cdb-9ce7-4dc0-bd8c-b55f79f37493\" type=\"checkbox\" ><label class=\"sk-toggleable__label\" for=\"46ce1cdb-9ce7-4dc0-bd8c-b55f79f37493\">columntransformer: ColumnTransformer</label><div class=\"sk-toggleable__content\"><pre>ColumnTransformer(remainder='passthrough',\n",
       "                  transformers=[('onehotencoder', OneHotEncoder(),\n",
       "                                 ['Geography', 'Gender']),\n",
       "                                ('minmaxscaler', MinMaxScaler(),\n",
       "                                 ['CreditScore', 'Balance',\n",
       "                                  'EstimatedSalary'])])</pre></div></div></div><div class=\"sk-parallel\"><div class=\"sk-parallel-item\"><div class=\"sk-item\"><div class=\"sk-label-container\"><div class=\"sk-label sk-toggleable\"><input class=\"sk-toggleable__control sk-hidden--visually\" id=\"fa84c5d7-4178-41eb-9386-a07ff2360c51\" type=\"checkbox\" ><label class=\"sk-toggleable__label\" for=\"fa84c5d7-4178-41eb-9386-a07ff2360c51\">onehotencoder</label><div class=\"sk-toggleable__content\"><pre>['Geography', 'Gender']</pre></div></div></div><div class=\"sk-serial\"><div class=\"sk-item\"><div class=\"sk-estimator sk-toggleable\"><input class=\"sk-toggleable__control sk-hidden--visually\" id=\"302567c5-8e1a-4102-9ac1-628f9ca27aa0\" type=\"checkbox\" ><label class=\"sk-toggleable__label\" for=\"302567c5-8e1a-4102-9ac1-628f9ca27aa0\">OneHotEncoder</label><div class=\"sk-toggleable__content\"><pre>OneHotEncoder()</pre></div></div></div></div></div></div><div class=\"sk-parallel-item\"><div class=\"sk-item\"><div class=\"sk-label-container\"><div class=\"sk-label sk-toggleable\"><input class=\"sk-toggleable__control sk-hidden--visually\" id=\"b77bc392-a24c-48d2-87bf-1807a123ab06\" type=\"checkbox\" ><label class=\"sk-toggleable__label\" for=\"b77bc392-a24c-48d2-87bf-1807a123ab06\">minmaxscaler</label><div class=\"sk-toggleable__content\"><pre>['CreditScore', 'Balance', 'EstimatedSalary']</pre></div></div></div><div class=\"sk-serial\"><div class=\"sk-item\"><div class=\"sk-estimator sk-toggleable\"><input class=\"sk-toggleable__control sk-hidden--visually\" id=\"aefbcbb6-178b-4eca-9388-61d6a0441e03\" type=\"checkbox\" ><label class=\"sk-toggleable__label\" for=\"aefbcbb6-178b-4eca-9388-61d6a0441e03\">MinMaxScaler</label><div class=\"sk-toggleable__content\"><pre>MinMaxScaler()</pre></div></div></div></div></div></div><div class=\"sk-parallel-item\"><div class=\"sk-item\"><div class=\"sk-label-container\"><div class=\"sk-label sk-toggleable\"><input class=\"sk-toggleable__control sk-hidden--visually\" id=\"a340753f-875f-4668-8a3d-280509a246a6\" type=\"checkbox\" ><label class=\"sk-toggleable__label\" for=\"a340753f-875f-4668-8a3d-280509a246a6\">remainder</label><div class=\"sk-toggleable__content\"><pre>['Age', 'Tenure', 'NumOfProducts', 'HasCrCard', 'IsActiveMember']</pre></div></div></div><div class=\"sk-serial\"><div class=\"sk-item\"><div class=\"sk-estimator sk-toggleable\"><input class=\"sk-toggleable__control sk-hidden--visually\" id=\"8729e2c7-ae98-45d7-84c9-62a0d10bbe64\" type=\"checkbox\" ><label class=\"sk-toggleable__label\" for=\"8729e2c7-ae98-45d7-84c9-62a0d10bbe64\">passthrough</label><div class=\"sk-toggleable__content\"><pre>passthrough</pre></div></div></div></div></div></div></div></div><div class=\"sk-item\"><div class=\"sk-estimator sk-toggleable\"><input class=\"sk-toggleable__control sk-hidden--visually\" id=\"5297d55c-7f90-403e-b3ad-55a0ff90713c\" type=\"checkbox\" ><label class=\"sk-toggleable__label\" for=\"5297d55c-7f90-403e-b3ad-55a0ff90713c\">KNeighborsClassifier</label><div class=\"sk-toggleable__content\"><pre>KNeighborsClassifier(n_neighbors=9)</pre></div></div></div></div></div></div></div>"
      ],
      "text/plain": [
       "Pipeline(steps=[('columntransformer',\n",
       "                 ColumnTransformer(remainder='passthrough',\n",
       "                                   transformers=[('onehotencoder',\n",
       "                                                  OneHotEncoder(),\n",
       "                                                  ['Geography', 'Gender']),\n",
       "                                                 ('minmaxscaler',\n",
       "                                                  MinMaxScaler(),\n",
       "                                                  ['CreditScore', 'Balance',\n",
       "                                                   'EstimatedSalary'])])),\n",
       "                ('kneighborsclassifier', KNeighborsClassifier(n_neighbors=9))])"
      ]
     },
     "execution_count": 61,
     "metadata": {},
     "output_type": "execute_result"
    }
   ],
   "source": [
    "KNN_pipe"
   ]
  },
  {
   "cell_type": "code",
   "execution_count": 62,
   "id": "c1acce09",
   "metadata": {},
   "outputs": [
    {
     "data": {
      "text/plain": [
       "0.8212120902685592"
      ]
     },
     "execution_count": 62,
     "metadata": {},
     "output_type": "execute_result"
    }
   ],
   "source": [
    "cross_val_score(KNN_pipe, X_train, y_train, cv=cv, scoring='accuracy').mean()"
   ]
  },
  {
   "cell_type": "code",
   "execution_count": 63,
   "id": "0a51726b",
   "metadata": {},
   "outputs": [],
   "source": [
    "KNN_pipe.fit(X_train, y_train);"
   ]
  },
  {
   "cell_type": "code",
   "execution_count": 64,
   "id": "a6c01bd1",
   "metadata": {},
   "outputs": [
    {
     "data": {
      "text/plain": [
       "0.8470773188509361"
      ]
     },
     "execution_count": 64,
     "metadata": {},
     "output_type": "execute_result"
    }
   ],
   "source": [
    "KNN_pipe.score(X_train, y_train)"
   ]
  },
  {
   "cell_type": "code",
   "execution_count": 65,
   "id": "ff91dd4c",
   "metadata": {},
   "outputs": [],
   "source": [
    "KNN_pred = KNN_pipe.predict(X_train)"
   ]
  },
  {
   "cell_type": "code",
   "execution_count": 66,
   "id": "c425b5bc",
   "metadata": {},
   "outputs": [
    {
     "data": {
      "text/plain": [
       "array([[5399,  172],\n",
       "       [ 898,  528]], dtype=int64)"
      ]
     },
     "execution_count": 66,
     "metadata": {},
     "output_type": "execute_result"
    }
   ],
   "source": [
    "from sklearn.metrics import confusion_matrix\n",
    "confusion_matrix(y_train, KNN_pred)"
   ]
  },
  {
   "cell_type": "code",
   "execution_count": 67,
   "id": "b2723d27",
   "metadata": {},
   "outputs": [],
   "source": [
    "hyper_params = {}\n",
    "hyper_params['randomforestclassifier__n_estimators'] = [150, 200, 250]\n",
    "hyper_params['randomforestclassifier__max_depth'] = [7, 8, 9, 10]\n",
    "hyper_params['randomforestclassifier__criterion'] = ['gini','entropy']\n",
    "hyper_params['randomforestclassifier__max_features'] = ['auto', 'sqrt', 'log2']"
   ]
  },
  {
   "cell_type": "code",
   "execution_count": 68,
   "id": "1035fe92",
   "metadata": {},
   "outputs": [],
   "source": [
    "from sklearn.model_selection import GridSearchCV\n",
    "grid = GridSearchCV(RF_pipe, hyper_params, cv=cv, scoring='accuracy', n_jobs=-1)\n",
    "grid.fit(X_train, y_train);"
   ]
  },
  {
   "cell_type": "code",
   "execution_count": 69,
   "id": "59a0dcca",
   "metadata": {},
   "outputs": [
    {
     "data": {
      "text/plain": [
       "0.8609426120698458"
      ]
     },
     "execution_count": 69,
     "metadata": {},
     "output_type": "execute_result"
    }
   ],
   "source": [
    "grid.best_score_"
   ]
  },
  {
   "cell_type": "code",
   "execution_count": 70,
   "id": "d5e087a7",
   "metadata": {},
   "outputs": [
    {
     "data": {
      "text/plain": [
       "{'randomforestclassifier__criterion': 'entropy',\n",
       " 'randomforestclassifier__max_depth': 10,\n",
       " 'randomforestclassifier__max_features': 'auto',\n",
       " 'randomforestclassifier__n_estimators': 250}"
      ]
     },
     "execution_count": 70,
     "metadata": {},
     "output_type": "execute_result"
    }
   ],
   "source": [
    "grid.best_params_"
   ]
  },
  {
   "cell_type": "code",
   "execution_count": 71,
   "id": "11f4b29d",
   "metadata": {},
   "outputs": [],
   "source": [
    "results = pd.DataFrame(grid.cv_results_)[['params', 'mean_test_score', 'rank_test_score']]"
   ]
  },
  {
   "cell_type": "code",
   "execution_count": 72,
   "id": "0eb2e3c3",
   "metadata": {},
   "outputs": [
    {
     "data": {
      "text/html": [
       "<div>\n",
       "<style scoped>\n",
       "    .dataframe tbody tr th:only-of-type {\n",
       "        vertical-align: middle;\n",
       "    }\n",
       "\n",
       "    .dataframe tbody tr th {\n",
       "        vertical-align: top;\n",
       "    }\n",
       "\n",
       "    .dataframe thead th {\n",
       "        text-align: right;\n",
       "    }\n",
       "</style>\n",
       "<table border=\"1\" class=\"dataframe\">\n",
       "  <thead>\n",
       "    <tr style=\"text-align: right;\">\n",
       "      <th></th>\n",
       "      <th>params</th>\n",
       "      <th>mean_test_score</th>\n",
       "      <th>rank_test_score</th>\n",
       "    </tr>\n",
       "  </thead>\n",
       "  <tbody>\n",
       "    <tr>\n",
       "      <th>71</th>\n",
       "      <td>{'randomforestclassifier__criterion': 'entropy...</td>\n",
       "      <td>0.860943</td>\n",
       "      <td>1</td>\n",
       "    </tr>\n",
       "    <tr>\n",
       "      <th>68</th>\n",
       "      <td>{'randomforestclassifier__criterion': 'entropy...</td>\n",
       "      <td>0.860943</td>\n",
       "      <td>1</td>\n",
       "    </tr>\n",
       "    <tr>\n",
       "      <th>65</th>\n",
       "      <td>{'randomforestclassifier__criterion': 'entropy...</td>\n",
       "      <td>0.860943</td>\n",
       "      <td>1</td>\n",
       "    </tr>\n",
       "    <tr>\n",
       "      <th>24</th>\n",
       "      <td>{'randomforestclassifier__criterion': 'gini', ...</td>\n",
       "      <td>0.860372</td>\n",
       "      <td>4</td>\n",
       "    </tr>\n",
       "    <tr>\n",
       "      <th>21</th>\n",
       "      <td>{'randomforestclassifier__criterion': 'gini', ...</td>\n",
       "      <td>0.860372</td>\n",
       "      <td>4</td>\n",
       "    </tr>\n",
       "    <tr>\n",
       "      <th>...</th>\n",
       "      <td>...</td>\n",
       "      <td>...</td>\n",
       "      <td>...</td>\n",
       "    </tr>\n",
       "    <tr>\n",
       "      <th>41</th>\n",
       "      <td>{'randomforestclassifier__criterion': 'entropy...</td>\n",
       "      <td>0.855798</td>\n",
       "      <td>67</td>\n",
       "    </tr>\n",
       "    <tr>\n",
       "      <th>38</th>\n",
       "      <td>{'randomforestclassifier__criterion': 'entropy...</td>\n",
       "      <td>0.855798</td>\n",
       "      <td>67</td>\n",
       "    </tr>\n",
       "    <tr>\n",
       "      <th>8</th>\n",
       "      <td>{'randomforestclassifier__criterion': 'gini', ...</td>\n",
       "      <td>0.855798</td>\n",
       "      <td>70</td>\n",
       "    </tr>\n",
       "    <tr>\n",
       "      <th>2</th>\n",
       "      <td>{'randomforestclassifier__criterion': 'gini', ...</td>\n",
       "      <td>0.855798</td>\n",
       "      <td>70</td>\n",
       "    </tr>\n",
       "    <tr>\n",
       "      <th>5</th>\n",
       "      <td>{'randomforestclassifier__criterion': 'gini', ...</td>\n",
       "      <td>0.855798</td>\n",
       "      <td>70</td>\n",
       "    </tr>\n",
       "  </tbody>\n",
       "</table>\n",
       "<p>72 rows × 3 columns</p>\n",
       "</div>"
      ],
      "text/plain": [
       "                                               params  mean_test_score  \\\n",
       "71  {'randomforestclassifier__criterion': 'entropy...         0.860943   \n",
       "68  {'randomforestclassifier__criterion': 'entropy...         0.860943   \n",
       "65  {'randomforestclassifier__criterion': 'entropy...         0.860943   \n",
       "24  {'randomforestclassifier__criterion': 'gini', ...         0.860372   \n",
       "21  {'randomforestclassifier__criterion': 'gini', ...         0.860372   \n",
       "..                                                ...              ...   \n",
       "41  {'randomforestclassifier__criterion': 'entropy...         0.855798   \n",
       "38  {'randomforestclassifier__criterion': 'entropy...         0.855798   \n",
       "8   {'randomforestclassifier__criterion': 'gini', ...         0.855798   \n",
       "2   {'randomforestclassifier__criterion': 'gini', ...         0.855798   \n",
       "5   {'randomforestclassifier__criterion': 'gini', ...         0.855798   \n",
       "\n",
       "    rank_test_score  \n",
       "71                1  \n",
       "68                1  \n",
       "65                1  \n",
       "24                4  \n",
       "21                4  \n",
       "..              ...  \n",
       "41               67  \n",
       "38               67  \n",
       "8                70  \n",
       "2                70  \n",
       "5                70  \n",
       "\n",
       "[72 rows x 3 columns]"
      ]
     },
     "execution_count": 72,
     "metadata": {},
     "output_type": "execute_result"
    }
   ],
   "source": [
    "results.sort_values('rank_test_score')"
   ]
  },
  {
   "cell_type": "code",
   "execution_count": 73,
   "id": "a4df7021",
   "metadata": {},
   "outputs": [],
   "source": [
    "hyper_params = {}\n",
    "hyper_params['logisticregression__penalty'] = ['l1', 'l2']\n",
    "hyper_params['logisticregression__C'] = [.001, .01, .1, 1]\n",
    "hyper_params['logisticregression__solver'] = ['newton-cg', 'lbfgs', 'liblinear', 'sag', 'saga']\n",
    "hyper_params['logisticregression__max_iter'] = [100, 1000]"
   ]
  },
  {
   "cell_type": "code",
   "execution_count": 74,
   "id": "9ca7dabc",
   "metadata": {},
   "outputs": [],
   "source": [
    "grid = GridSearchCV(LR_pipe, hyper_params, cv=cv, scoring='accuracy')\n",
    "grid.fit(X_train, y_train);"
   ]
  },
  {
   "cell_type": "code",
   "execution_count": 75,
   "id": "0605bff5",
   "metadata": {},
   "outputs": [
    {
     "data": {
      "text/plain": [
       "0.812207393035842"
      ]
     },
     "execution_count": 75,
     "metadata": {},
     "output_type": "execute_result"
    }
   ],
   "source": [
    "grid.best_score_"
   ]
  },
  {
   "cell_type": "code",
   "execution_count": 76,
   "id": "81b74a3b",
   "metadata": {},
   "outputs": [
    {
     "data": {
      "text/plain": [
       "{'logisticregression__C': 0.1,\n",
       " 'logisticregression__max_iter': 100,\n",
       " 'logisticregression__penalty': 'l1',\n",
       " 'logisticregression__solver': 'liblinear'}"
      ]
     },
     "execution_count": 76,
     "metadata": {},
     "output_type": "execute_result"
    }
   ],
   "source": [
    "grid.best_params_"
   ]
  },
  {
   "cell_type": "code",
   "execution_count": 77,
   "id": "2ee79362",
   "metadata": {},
   "outputs": [],
   "source": [
    "results = pd.DataFrame(grid.cv_results_)[['params', 'mean_test_score', 'rank_test_score']]"
   ]
  },
  {
   "cell_type": "code",
   "execution_count": 78,
   "id": "f1ce3515",
   "metadata": {},
   "outputs": [
    {
     "data": {
      "text/html": [
       "<div>\n",
       "<style scoped>\n",
       "    .dataframe tbody tr th:only-of-type {\n",
       "        vertical-align: middle;\n",
       "    }\n",
       "\n",
       "    .dataframe tbody tr th {\n",
       "        vertical-align: top;\n",
       "    }\n",
       "\n",
       "    .dataframe thead th {\n",
       "        text-align: right;\n",
       "    }\n",
       "</style>\n",
       "<table border=\"1\" class=\"dataframe\">\n",
       "  <thead>\n",
       "    <tr style=\"text-align: right;\">\n",
       "      <th></th>\n",
       "      <th>params</th>\n",
       "      <th>mean_test_score</th>\n",
       "      <th>rank_test_score</th>\n",
       "    </tr>\n",
       "  </thead>\n",
       "  <tbody>\n",
       "    <tr>\n",
       "      <th>42</th>\n",
       "      <td>{'logisticregression__C': 0.1, 'logisticregres...</td>\n",
       "      <td>0.812207</td>\n",
       "      <td>1</td>\n",
       "    </tr>\n",
       "    <tr>\n",
       "      <th>52</th>\n",
       "      <td>{'logisticregression__C': 0.1, 'logisticregres...</td>\n",
       "      <td>0.812207</td>\n",
       "      <td>1</td>\n",
       "    </tr>\n",
       "    <tr>\n",
       "      <th>57</th>\n",
       "      <td>{'logisticregression__C': 0.1, 'logisticregres...</td>\n",
       "      <td>0.811921</td>\n",
       "      <td>3</td>\n",
       "    </tr>\n",
       "    <tr>\n",
       "      <th>47</th>\n",
       "      <td>{'logisticregression__C': 0.1, 'logisticregres...</td>\n",
       "      <td>0.811921</td>\n",
       "      <td>3</td>\n",
       "    </tr>\n",
       "    <tr>\n",
       "      <th>79</th>\n",
       "      <td>{'logisticregression__C': 1, 'logisticregressi...</td>\n",
       "      <td>0.811493</td>\n",
       "      <td>5</td>\n",
       "    </tr>\n",
       "    <tr>\n",
       "      <th>...</th>\n",
       "      <td>...</td>\n",
       "      <td>...</td>\n",
       "      <td>...</td>\n",
       "    </tr>\n",
       "    <tr>\n",
       "      <th>40</th>\n",
       "      <td>{'logisticregression__C': 0.1, 'logisticregres...</td>\n",
       "      <td>NaN</td>\n",
       "      <td>76</td>\n",
       "    </tr>\n",
       "    <tr>\n",
       "      <th>30</th>\n",
       "      <td>{'logisticregression__C': 0.01, 'logisticregre...</td>\n",
       "      <td>NaN</td>\n",
       "      <td>77</td>\n",
       "    </tr>\n",
       "    <tr>\n",
       "      <th>31</th>\n",
       "      <td>{'logisticregression__C': 0.01, 'logisticregre...</td>\n",
       "      <td>NaN</td>\n",
       "      <td>78</td>\n",
       "    </tr>\n",
       "    <tr>\n",
       "      <th>63</th>\n",
       "      <td>{'logisticregression__C': 1, 'logisticregressi...</td>\n",
       "      <td>NaN</td>\n",
       "      <td>79</td>\n",
       "    </tr>\n",
       "    <tr>\n",
       "      <th>0</th>\n",
       "      <td>{'logisticregression__C': 0.001, 'logisticregr...</td>\n",
       "      <td>NaN</td>\n",
       "      <td>80</td>\n",
       "    </tr>\n",
       "  </tbody>\n",
       "</table>\n",
       "<p>80 rows × 3 columns</p>\n",
       "</div>"
      ],
      "text/plain": [
       "                                               params  mean_test_score  \\\n",
       "42  {'logisticregression__C': 0.1, 'logisticregres...         0.812207   \n",
       "52  {'logisticregression__C': 0.1, 'logisticregres...         0.812207   \n",
       "57  {'logisticregression__C': 0.1, 'logisticregres...         0.811921   \n",
       "47  {'logisticregression__C': 0.1, 'logisticregres...         0.811921   \n",
       "79  {'logisticregression__C': 1, 'logisticregressi...         0.811493   \n",
       "..                                                ...              ...   \n",
       "40  {'logisticregression__C': 0.1, 'logisticregres...              NaN   \n",
       "30  {'logisticregression__C': 0.01, 'logisticregre...              NaN   \n",
       "31  {'logisticregression__C': 0.01, 'logisticregre...              NaN   \n",
       "63  {'logisticregression__C': 1, 'logisticregressi...              NaN   \n",
       "0   {'logisticregression__C': 0.001, 'logisticregr...              NaN   \n",
       "\n",
       "    rank_test_score  \n",
       "42                1  \n",
       "52                1  \n",
       "57                3  \n",
       "47                3  \n",
       "79                5  \n",
       "..              ...  \n",
       "40               76  \n",
       "30               77  \n",
       "31               78  \n",
       "63               79  \n",
       "0                80  \n",
       "\n",
       "[80 rows x 3 columns]"
      ]
     },
     "execution_count": 78,
     "metadata": {},
     "output_type": "execute_result"
    }
   ],
   "source": [
    "results.sort_values('rank_test_score')"
   ]
  },
  {
   "cell_type": "code",
   "execution_count": 79,
   "id": "19354b82",
   "metadata": {},
   "outputs": [],
   "source": [
    "hyper_params = {}\n",
    "hyper_params['kneighborsclassifier__n_neighbors'] = [5, 6, 7, 8, 9]\n",
    "hyper_params['kneighborsclassifier__weights'] = ['uniform','distance']\n",
    "hyper_params['kneighborsclassifier__algorithm'] = ['auto', 'ball_tree', 'kd_tree', 'brute']\n",
    "hyper_params['kneighborsclassifier__leaf_size'] = [30, 40, 50]"
   ]
  },
  {
   "cell_type": "code",
   "execution_count": 80,
   "id": "48a2378e",
   "metadata": {},
   "outputs": [],
   "source": [
    "grid = GridSearchCV(KNN_pipe, hyper_params, cv=cv, scoring='accuracy')\n",
    "grid.fit(X_train, y_train);"
   ]
  },
  {
   "cell_type": "code",
   "execution_count": 81,
   "id": "3b356a3a",
   "metadata": {},
   "outputs": [
    {
     "data": {
      "text/plain": [
       "0.8212120902685592"
      ]
     },
     "execution_count": 81,
     "metadata": {},
     "output_type": "execute_result"
    }
   ],
   "source": [
    "grid.best_score_"
   ]
  },
  {
   "cell_type": "code",
   "execution_count": 82,
   "id": "a51a96d3",
   "metadata": {},
   "outputs": [
    {
     "data": {
      "text/plain": [
       "{'kneighborsclassifier__algorithm': 'auto',\n",
       " 'kneighborsclassifier__leaf_size': 30,\n",
       " 'kneighborsclassifier__n_neighbors': 9,\n",
       " 'kneighborsclassifier__weights': 'uniform'}"
      ]
     },
     "execution_count": 82,
     "metadata": {},
     "output_type": "execute_result"
    }
   ],
   "source": [
    "grid.best_params_"
   ]
  },
  {
   "cell_type": "code",
   "execution_count": 83,
   "id": "68206489",
   "metadata": {},
   "outputs": [],
   "source": [
    "results = pd.DataFrame(grid.cv_results_)[['params', 'mean_test_score', 'rank_test_score']]"
   ]
  },
  {
   "cell_type": "code",
   "execution_count": 84,
   "id": "0736343d",
   "metadata": {},
   "outputs": [
    {
     "data": {
      "text/html": [
       "<div>\n",
       "<style scoped>\n",
       "    .dataframe tbody tr th:only-of-type {\n",
       "        vertical-align: middle;\n",
       "    }\n",
       "\n",
       "    .dataframe tbody tr th {\n",
       "        vertical-align: top;\n",
       "    }\n",
       "\n",
       "    .dataframe thead th {\n",
       "        text-align: right;\n",
       "    }\n",
       "</style>\n",
       "<table border=\"1\" class=\"dataframe\">\n",
       "  <thead>\n",
       "    <tr style=\"text-align: right;\">\n",
       "      <th></th>\n",
       "      <th>params</th>\n",
       "      <th>mean_test_score</th>\n",
       "      <th>rank_test_score</th>\n",
       "    </tr>\n",
       "  </thead>\n",
       "  <tbody>\n",
       "    <tr>\n",
       "      <th>18</th>\n",
       "      <td>{'kneighborsclassifier__algorithm': 'auto', 'k...</td>\n",
       "      <td>0.821212</td>\n",
       "      <td>1</td>\n",
       "    </tr>\n",
       "    <tr>\n",
       "      <th>38</th>\n",
       "      <td>{'kneighborsclassifier__algorithm': 'ball_tree...</td>\n",
       "      <td>0.821212</td>\n",
       "      <td>1</td>\n",
       "    </tr>\n",
       "    <tr>\n",
       "      <th>78</th>\n",
       "      <td>{'kneighborsclassifier__algorithm': 'kd_tree',...</td>\n",
       "      <td>0.821212</td>\n",
       "      <td>1</td>\n",
       "    </tr>\n",
       "    <tr>\n",
       "      <th>98</th>\n",
       "      <td>{'kneighborsclassifier__algorithm': 'brute', '...</td>\n",
       "      <td>0.821212</td>\n",
       "      <td>1</td>\n",
       "    </tr>\n",
       "    <tr>\n",
       "      <th>28</th>\n",
       "      <td>{'kneighborsclassifier__algorithm': 'auto', 'k...</td>\n",
       "      <td>0.821212</td>\n",
       "      <td>1</td>\n",
       "    </tr>\n",
       "    <tr>\n",
       "      <th>...</th>\n",
       "      <td>...</td>\n",
       "      <td>...</td>\n",
       "      <td>...</td>\n",
       "    </tr>\n",
       "    <tr>\n",
       "      <th>11</th>\n",
       "      <td>{'kneighborsclassifier__algorithm': 'auto', 'k...</td>\n",
       "      <td>0.808063</td>\n",
       "      <td>109</td>\n",
       "    </tr>\n",
       "    <tr>\n",
       "      <th>21</th>\n",
       "      <td>{'kneighborsclassifier__algorithm': 'auto', 'k...</td>\n",
       "      <td>0.808063</td>\n",
       "      <td>109</td>\n",
       "    </tr>\n",
       "    <tr>\n",
       "      <th>91</th>\n",
       "      <td>{'kneighborsclassifier__algorithm': 'brute', '...</td>\n",
       "      <td>0.808063</td>\n",
       "      <td>109</td>\n",
       "    </tr>\n",
       "    <tr>\n",
       "      <th>111</th>\n",
       "      <td>{'kneighborsclassifier__algorithm': 'brute', '...</td>\n",
       "      <td>0.808063</td>\n",
       "      <td>109</td>\n",
       "    </tr>\n",
       "    <tr>\n",
       "      <th>81</th>\n",
       "      <td>{'kneighborsclassifier__algorithm': 'kd_tree',...</td>\n",
       "      <td>0.808063</td>\n",
       "      <td>109</td>\n",
       "    </tr>\n",
       "  </tbody>\n",
       "</table>\n",
       "<p>120 rows × 3 columns</p>\n",
       "</div>"
      ],
      "text/plain": [
       "                                                params  mean_test_score  \\\n",
       "18   {'kneighborsclassifier__algorithm': 'auto', 'k...         0.821212   \n",
       "38   {'kneighborsclassifier__algorithm': 'ball_tree...         0.821212   \n",
       "78   {'kneighborsclassifier__algorithm': 'kd_tree',...         0.821212   \n",
       "98   {'kneighborsclassifier__algorithm': 'brute', '...         0.821212   \n",
       "28   {'kneighborsclassifier__algorithm': 'auto', 'k...         0.821212   \n",
       "..                                                 ...              ...   \n",
       "11   {'kneighborsclassifier__algorithm': 'auto', 'k...         0.808063   \n",
       "21   {'kneighborsclassifier__algorithm': 'auto', 'k...         0.808063   \n",
       "91   {'kneighborsclassifier__algorithm': 'brute', '...         0.808063   \n",
       "111  {'kneighborsclassifier__algorithm': 'brute', '...         0.808063   \n",
       "81   {'kneighborsclassifier__algorithm': 'kd_tree',...         0.808063   \n",
       "\n",
       "     rank_test_score  \n",
       "18                 1  \n",
       "38                 1  \n",
       "78                 1  \n",
       "98                 1  \n",
       "28                 1  \n",
       "..               ...  \n",
       "11               109  \n",
       "21               109  \n",
       "91               109  \n",
       "111              109  \n",
       "81               109  \n",
       "\n",
       "[120 rows x 3 columns]"
      ]
     },
     "execution_count": 84,
     "metadata": {},
     "output_type": "execute_result"
    }
   ],
   "source": [
    "results.sort_values('rank_test_score')"
   ]
  },
  {
   "cell_type": "code",
   "execution_count": 85,
   "id": "2ca0be7b",
   "metadata": {},
   "outputs": [],
   "source": [
    "from sklearn.metrics import accuracy_score\n",
    "from sklearn.metrics import confusion_matrix\n",
    "from sklearn.metrics import plot_confusion_matrix\n",
    "from sklearn.metrics import roc_auc_score"
   ]
  },
  {
   "cell_type": "code",
   "execution_count": 86,
   "id": "326b3263",
   "metadata": {},
   "outputs": [],
   "source": [
    "RF_pred = RF_pipe.predict(X_test)"
   ]
  },
  {
   "cell_type": "code",
   "execution_count": 87,
   "id": "ad67b984",
   "metadata": {},
   "outputs": [
    {
     "data": {
      "text/plain": [
       "0.8686666666666667"
      ]
     },
     "execution_count": 87,
     "metadata": {},
     "output_type": "execute_result"
    }
   ],
   "source": [
    "accuracy_score(y_test, RF_pred)"
   ]
  },
  {
   "cell_type": "code",
   "execution_count": 88,
   "id": "b556287f",
   "metadata": {},
   "outputs": [
    {
     "data": {
      "image/png": "[encoded data removed]",
      "text/plain": [
       "<Figure size 432x288 with 2 Axes>"
      ]
     },
     "metadata": {},
     "output_type": "display_data"
    }
   ],
   "source": [
    "plot_confusion_matrix(RF_pipe, X_test, y_test, cmap=plt.cm.Blues)  \n",
    "plt.show() "
   ]
  },
  {
   "cell_type": "code",
   "execution_count": 89,
   "id": "6d9eb793",
   "metadata": {},
   "outputs": [
    {
     "data": {
      "text/plain": [
       "0.7110748322062591"
      ]
     },
     "execution_count": 89,
     "metadata": {},
     "output_type": "execute_result"
    }
   ],
   "source": [
    "roc_auc_score(y_test, RF_pred, multi_class='ovo')"
   ]
  },
  {
   "cell_type": "code",
   "execution_count": 90,
   "id": "eb4f3e26",
   "metadata": {},
   "outputs": [],
   "source": [
    "KNN_pred = KNN_pipe.predict(X_test)"
   ]
  },
  {
   "cell_type": "code",
   "execution_count": 91,
   "id": "1b33197b",
   "metadata": {},
   "outputs": [
    {
     "data": {
      "text/plain": [
       "0.8286666666666667"
      ]
     },
     "execution_count": 91,
     "metadata": {},
     "output_type": "execute_result"
    }
   ],
   "source": [
    "accuracy_score(y_test, KNN_pred)"
   ]
  },
  {
   "cell_type": "code",
   "execution_count": 92,
   "id": "6bdb6145",
   "metadata": {},
   "outputs": [
    {
     "data": {
      "image/png": "[encoded data removed]",
      "text/plain": [
       "<Figure size 432x288 with 2 Axes>"
      ]
     },
     "metadata": {},
     "output_type": "display_data"
    }
   ],
   "source": [
    "plot_confusion_matrix(KNN_pipe, X_test, y_test, cmap=plt.cm.Blues)  \n",
    "plt.show() "
   ]
  },
  {
   "cell_type": "code",
   "execution_count": 93,
   "id": "f289f47e",
   "metadata": {},
   "outputs": [],
   "source": [
    "LR_pred = LR_pipe.predict(X_test)"
   ]
  },
  {
   "cell_type": "code",
   "execution_count": 94,
   "id": "37861f7b",
   "metadata": {},
   "outputs": [
    {
     "data": {
      "text/plain": [
       "0.8116666666666666"
      ]
     },
     "execution_count": 94,
     "metadata": {},
     "output_type": "execute_result"
    }
   ],
   "source": [
    "accuracy_score(y_test, LR_pred)"
   ]
  },
  {
   "cell_type": "code",
   "execution_count": 95,
   "id": "6ef9b0cf",
   "metadata": {},
   "outputs": [
    {
     "data": {
      "image/png": "[encoded data removed]",
      "text/plain": [
       "<Figure size 432x288 with 2 Axes>"
      ]
     },
     "metadata": {},
     "output_type": "display_data"
    }
   ],
   "source": [
    "plot_confusion_matrix(LR_pipe, X_test, y_test, cmap=plt.cm.Blues)  \n",
    "plt.show() "
   ]
  },
  {
   "cell_type": "markdown",
   "id": "e11c3efc",
   "metadata": {},
   "source": [
    "# Result \n",
    "\n",
    "### Accuracy Score of Random Forest is 86.86%\n",
    "### Accuracy Score of k-nearest neighbor is 82.86%\n",
    "### Accuracy Score of Logistic Regression is 81.16%"
   ]
  }
 ],
 "metadata": {
  "kernelspec": {
   "display_name": "Python 3 (ipykernel)",
   "language": "python",
   "name": "python3"
  },
  "language_info": {
   "codemirror_mode": {
    "name": "ipython",
    "version": 3
   },
   "file_extension": ".py",
   "mimetype": "text/x-python",
   "name": "python",
   "nbconvert_exporter": "python",
   "pygments_lexer": "ipython3",
   "version": "3.11.3"
  }
 },
 "nbformat": 4,
 "nbformat_minor": 5
}
